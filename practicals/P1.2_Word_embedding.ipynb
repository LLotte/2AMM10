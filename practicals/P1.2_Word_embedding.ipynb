{
  "cells": [
    {
      "cell_type": "markdown",
      "metadata": {
        "id": "view-in-github",
        "colab_type": "text"
      },
      "source": [
        "<a href=\"https://colab.research.google.com/github/LLotte/2AMM10/blob/main/practicals/P1.2_Word_embedding.ipynb\" target=\"_parent\"><img src=\"https://colab.research.google.com/assets/colab-badge.svg\" alt=\"Open In Colab\"/></a>"
      ]
    },
    {
      "cell_type": "code",
      "execution_count": 2,
      "metadata": {
        "id": "lKQAPy-OvhFL"
      },
      "outputs": [],
      "source": [
        "%matplotlib inline"
      ]
    },
    {
      "cell_type": "markdown",
      "metadata": {
        "id": "NPuixz3BvhFO"
      },
      "source": [
        "# Practical Overview\n",
        "\n",
        " In this Practical you will learn :\n",
        "- Basic concepts of word embeddings.\n",
        "- How to extract word embeddings by N-Gram in a toy example.\n",
        "- How to extract word embeddings by CBoW in a toy example.\n",
        "- How to extract word embeddings by CBoW in `Alice in Wonderland`.\n",
        "- How to perform the analogy task.\n",
        "- Reflecting on the conceptual differences between the CBoW and N-Gram model.\n",
        "\n",
        "We recommend running the practicals of this course in Google Colab. Make sure to go to additional connection options (the small arrow at the top right) -> change runtime type -> a GPU runtime to make use of GPU acceleration."
      ]
    },
    {
      "cell_type": "markdown",
      "metadata": {
        "id": "xJ4nnAY4jR4R"
      },
      "source": [
        "\n",
        "# Word Embeddings: Encoding Lexical Semantics\n",
        "\n",
        "\n",
        "Word embeddings are dense vectors of real numbers, one per word in your\n",
        "vocabulary. In NLP, it is almost always the case that your features are\n",
        "words! But how should you represent a word in a computer? You could\n",
        "store its ascii character representation, but that only tells you what\n",
        "the word *is*, it doesn't say much about what it *means* (you might be\n",
        "able to derive its part of speech from its affixes, or properties from\n",
        "its capitalization, but not much). Even more, in what sense could you\n",
        "combine these representations? We often want dense outputs from our\n",
        "neural networks, where the inputs are $|V|$ dimensional, where\n",
        "$V$ is our vocabulary, but often the outputs are only a few\n",
        "dimensional (if we are only predicting a handful of labels, for\n",
        "instance). How do we get from a massive dimensional space to a smaller\n",
        "dimensional space?\n",
        "\n",
        "How about instead of ascii representations, we use a one-hot encoding?\n",
        "That is, we represent the word $w$ by\n",
        "$$\n",
        "\\begin{align}\n",
        "\\overbrace{\\left[ 0, 0, \\dots, 1, \\dots, 0, 0 \\right]}^\\text{|V| elements}\n",
        "\\end{align}\n",
        "$$\n",
        "\n",
        "where the 1 is in a location unique to $w$. Any other word will\n",
        "have a 1 in some other location, and a 0 everywhere else.\n",
        "\n",
        "There is an enormous drawback to this representation, besides just how\n",
        "huge it is. It basically treats all words as independent entities with\n",
        "no relation to each other. What we really want is some notion of\n",
        "*similarity* between words. Why? Let's see an example.\n",
        "\n",
        "Suppose we are building a language model. Suppose we have seen the\n",
        "sentences\n",
        "\n",
        "* The mathematician ran to the store.\n",
        "* The physicist ran to the store.\n",
        "* The mathematician solved the open problem.\n",
        "\n",
        "in our training data. Now suppose we get a new sentence never before\n",
        "seen in our training data:\n",
        "\n",
        "* The physicist solved the open problem.\n",
        "\n",
        "Our language model might do OK on this sentence, but wouldn't it be much\n",
        "better if we could use the following two facts:\n",
        "\n",
        "- We have seen  mathematician and physicist in the same role in a sentence. Somehow they\n",
        "  have a semantic relation.\n",
        "* We have seen mathematician in the same role  in this new unseen sentence\n",
        "  as we are now seeing physicist.\n",
        "\n",
        "and then infer that physicist is actually a good fit in the new unseen\n",
        "sentence? This is what we mean by a notion of similarity: we mean\n",
        "*semantic similarity*, not simply having similar orthographic\n",
        "representations. It is a technique to combat the sparsity of linguistic\n",
        "data, by connecting the dots between what we have seen and what we\n",
        "haven't. This example of course relies on a fundamental linguistic\n",
        "assumption: that words appearing in similar contexts are related to each\n",
        "other semantically. This is called the [distributional\n",
        "hypothesis](https://en.wikipedia.org/wiki/Distributional_semantics).\n"
      ]
    },
    {
      "cell_type": "markdown",
      "metadata": {
        "id": "U3D0sQ05vhFR"
      },
      "source": [
        "# Getting Dense Word Embeddings\n",
        "\n",
        "\n",
        "How can we solve this problem? That is, how could we actually encode\n",
        "semantic similarity in words? Maybe we think up some semantic\n",
        "attributes. For example, we see that both mathematicians and physicists\n",
        "can run, so maybe we give these words a high score for the \"is able to\n",
        "run\" semantic attribute. Think of some other attributes, and imagine\n",
        "what you might score some common words on those attributes.\n",
        "\n",
        "If each attribute is a dimension, then we might give each word a vector,\n",
        "like this:\n",
        "\n",
        "$$\n",
        "\\begin{align}\n",
        "q_\\text{mathematician} = \\left[ \\overbrace{2.3}^\\text{can run},\n",
        "   \\overbrace{9.4}^\\text{likes coffee}, \\overbrace{-5.5}^\\text{majored in Physics}, \\dots \\right]\n",
        " \\end{align}\n",
        "$$\n",
        "\n",
        "$$\n",
        "\\begin{align}\n",
        "q_\\text{physicist} = \\left[ \\overbrace{2.5}^\\text{can run},\n",
        "   \\overbrace{9.1}^\\text{likes coffee}, \\overbrace{6.4}^\\text{majored in Physics}, \\dots \\right]\n",
        "\\end{align}\n",
        "$$\n",
        "\n",
        "Then we can get a measure of similarity between these words by doing:\n",
        "\n",
        "$$\n",
        "\\begin{align}\n",
        "\\text{Similarity}(\\text{physicist}, \\text{mathematician}) = q_\\text{physicist} \\cdot q_\\text{mathematician}\n",
        "\\end{align}\n",
        "$$\n",
        "\n",
        "\n",
        "Although it is more common to normalize by the lengths:\n",
        "\n",
        "\\begin{align}\\text{Similarity}(\\text{physicist}, \\text{mathematician}) = \\frac{q_\\text{physicist} \\cdot q_\\text{mathematician}}\n",
        "   {\\| q_\\text{physicist} \\| \\| q_\\text{mathematician} \\|} = \\cos (\\phi)\\end{align}\n",
        "\n",
        "Where $\\phi$ is the angle between the two vectors. That way,\n",
        "extremely similar words (words whose embeddings point in the same\n",
        "direction) will have similarity 1. Extremely dissimilar words should\n",
        "have similarity -1.\n",
        "\n",
        "\n",
        "\n",
        "You can think of the sparse one-hot vectors from the beginning of this\n",
        "section as a special case of these new vectors we have defined, where\n",
        "each word basically has similarity 0, and we gave each word some unique\n",
        "semantic attribute. These new vectors are *dense*, which is to say their\n",
        "entries are (typically) non-zero.\n",
        "\n",
        "But these new vectors are a big pain: you could think of thousands of\n",
        "different semantic attributes that might be relevant to determining\n",
        "similarity, and how on earth would you set the values of the different\n",
        "attributes? Central to the idea of deep learning is that the neural\n",
        "network learns representations of the features, rather than requiring\n",
        "the programmer to design them herself. So why not just let the word\n",
        "embeddings be parameters in our model, and then be updated during\n",
        "training? This is exactly what we will do. We will have some *latent\n",
        "semantic attributes* that the network can, in principle, learn. Note\n",
        "that the word embeddings will probably not be interpretable. That is,\n",
        "although with our hand-crafted vectors above we can see that\n",
        "mathematicians and physicists are similar in that they both like coffee,\n",
        "if we allow a neural network to learn the embeddings and see that both\n",
        "mathematicians and physicists have a large value in the second\n",
        "dimension, it is not clear what that means. They are similar in some\n",
        "latent semantic dimension, but this probably has no interpretation to\n",
        "us.\n",
        "\n",
        "\n",
        "In summary, **word embeddings are a representation of the *semantics* of\n",
        "a word, efficiently encoding semantic information that might be relevant\n",
        "to the task at hand**. You can embed other things too: part of speech\n",
        "tags, parse trees, anything! The idea of feature embeddings is central\n",
        "to the field.\n"
      ]
    },
    {
      "cell_type": "markdown",
      "metadata": {
        "id": "o3jDVLjXvhFR"
      },
      "source": [
        "# Word Embeddings in Pytorch\n",
        "\n",
        "\n",
        "Before we get to a worked example and an exercise, a few quick notes\n",
        "about how to use embeddings in Pytorch and in deep learning programming\n",
        "in general. Similar to how we defined a unique index for each word when\n",
        "making one-hot vectors, we also need to define an index for each word\n",
        "when using embeddings. These will be keys into a lookup table. That is,\n",
        "embeddings are stored as a $|V| \\times D$ matrix, where $D$\n",
        "is the dimensionality of the embeddings, such that the word assigned\n",
        "index $i$ has its embedding stored in the $i$'th row of the\n",
        "matrix. In all of code, the mapping from words to indices is a\n",
        "dictionary named word\\_to\\_ix.\n",
        "\n",
        "The module that allows you to use embeddings is torch.nn.Embedding,\n",
        "which takes two arguments: the vocabulary size, and the dimensionality\n",
        "of the embeddings.\n",
        "\n",
        "To index into this table, you must use torch.LongTensor (since the\n",
        "indices are integers, not floats).\n",
        "\n"
      ]
    },
    {
      "cell_type": "code",
      "execution_count": 3,
      "metadata": {
        "id": "SN-aYyHOjR4S",
        "colab": {
          "base_uri": "https://localhost:8080/"
        },
        "outputId": "451bbfcb-8c14-4d8f-d050-ffbd11a43a97"
      },
      "outputs": [
        {
          "output_type": "execute_result",
          "data": {
            "text/plain": [
              "<torch._C.Generator at 0x7a6e8c2c6a30>"
            ]
          },
          "metadata": {},
          "execution_count": 3
        }
      ],
      "source": [
        "# The first part of this practical is based on the tutorial by Robert Guthrie, which can be found here:\n",
        "# https://pytorch.org/tutorials/beginner/nlp/word_embeddings_tutorial.html\n",
        "\n",
        "import torch\n",
        "import torch.nn as nn\n",
        "import torch.nn.functional as F\n",
        "import torch.optim as optim\n",
        "import numpy as np\n",
        "torch.manual_seed(1)"
      ]
    },
    {
      "cell_type": "code",
      "execution_count": 4,
      "metadata": {
        "id": "Ki4s4m9IjR4T",
        "colab": {
          "base_uri": "https://localhost:8080/"
        },
        "outputId": "5802e2e2-cfcb-4890-93fc-0128da7bf99b"
      },
      "outputs": [
        {
          "output_type": "stream",
          "name": "stdout",
          "text": [
            "tensor([[ 0.6614,  0.2669,  0.0617,  0.6213, -0.4519]],\n",
            "       grad_fn=<EmbeddingBackward0>)\n"
          ]
        }
      ],
      "source": [
        "word_to_ix = {\"hello\": 0, \"world\": 1}\n",
        "embeds = nn.Embedding(2, 5)  # 2 words in vocab, 5 dimensional embeddings\n",
        "lookup_tensor = torch.tensor([word_to_ix[\"hello\"]], dtype=torch.long)\n",
        "hello_embed = embeds(lookup_tensor)\n",
        "print(hello_embed)"
      ]
    },
    {
      "cell_type": "markdown",
      "metadata": {
        "id": "uzIyUMPKjR4U"
      },
      "source": [
        "# Getting started:  N-Gram Language Modeling in a Toy example\n",
        "\n",
        "\n",
        "Recall that in an n-gram language model, given a sequence of words\n",
        "$w$, we want to compute\n",
        "\n",
        "\\begin{align}P(w_i | w_{i-1}, w_{i-2}, \\dots, w_{i-n+1} )\\end{align}\n",
        "\n",
        "Where $w_i$ is the ith word of the sequence.\n",
        "\n",
        "In this example, we will compute the loss function on some training\n",
        "examples and update the parameters with backpropagation.\n",
        "\n",
        "\n"
      ]
    },
    {
      "cell_type": "markdown",
      "metadata": {
        "id": "CVb-52jQvhFT"
      },
      "source": [
        "##  Data Preprocessing\n",
        "\n",
        "Before we can use the data in our model, we should build a list of tuples.  Each tuple is `([ word_i-2, word_i-1 ], target word)`, we also build dictionaries to map from words to indices, i.e. word_to_ix, and map from indices to words, i.e. ix_to_word,"
      ]
    },
    {
      "cell_type": "code",
      "execution_count": 5,
      "metadata": {
        "colab": {
          "base_uri": "https://localhost:8080/"
        },
        "id": "kjYsONYHvhFT",
        "outputId": "1e3fdfe8-d34a-4b9f-e503-16c9ec0accc6"
      },
      "outputs": [
        {
          "output_type": "stream",
          "name": "stdout",
          "text": [
            "[(['When', 'forty'], 'winters'), (['forty', 'winters'], 'shall'), (['winters', 'shall'], 'besiege')]\n"
          ]
        }
      ],
      "source": [
        "CONTEXT_SIZE = 2   # a 2-gram language model\n",
        "\n",
        "# We will use Shakespeare Sonnet 2\n",
        "test_sentence = \"\"\"When forty winters shall besiege thy brow,\n",
        "And dig deep trenches in thy beauty's field,\n",
        "Thy youth's proud livery so gazed on now,\n",
        "Will be a totter'd weed of small worth held:\n",
        "Then being asked, where all thy beauty lies,\n",
        "Where all the treasure of thy lusty days;\n",
        "To say, within thine own deep sunken eyes,\n",
        "Were an all-eating shame, and thriftless praise.\n",
        "How much more praise deserv'd thy beauty's use,\n",
        "If thou couldst answer 'This fair child of mine\n",
        "Shall sum my count, and make my old excuse,'\n",
        "Proving his beauty by succession thine!\n",
        "This were to be new made when thou art old,\n",
        "And see thy blood warm when thou feel'st it cold.\"\"\".split()\n",
        "# we should tokenize the input, but we will ignore that for now\n",
        "# build a list of tuples.  Each tuple is ([ word_i-2, word_i-1 ], target word)\n",
        "trigrams = [([test_sentence[i], test_sentence[i + 1]], test_sentence[i + 2])\n",
        "            for i in range(len(test_sentence) - 2)]\n",
        "# print the first 3, just so you can see what they look like\n",
        "print(trigrams[:3])\n",
        "\n",
        "\n",
        "vocab = set(test_sentence)\n",
        "word_to_ix = {word: i for i, word in enumerate(vocab)}\n",
        "ix_to_word = {ix:word for ix, word in enumerate(vocab)}\n"
      ]
    },
    {
      "cell_type": "markdown",
      "metadata": {
        "id": "07xrZ8zbvhFU"
      },
      "source": [
        "## Create N-Gram model\n",
        "We create N-Gram language model, and set the word embedding size to be 100 (or other by your preference)"
      ]
    },
    {
      "cell_type": "code",
      "execution_count": 6,
      "metadata": {
        "id": "cAWWomBFjR4V",
        "scrolled": true,
        "colab": {
          "base_uri": "https://localhost:8080/"
        },
        "outputId": "ffe58b56-76ad-4986-b7c2-d7b78f361734"
      },
      "outputs": [
        {
          "output_type": "stream",
          "name": "stdout",
          "text": [
            "Epoch: 0 \tLoss: 4.5988200871290354\n",
            "Epoch: 1 \tLoss: 4.548168844881311\n",
            "Epoch: 2 \tLoss: 4.497988700866699\n",
            "Epoch: 3 \tLoss: 4.44823889394777\n",
            "Epoch: 4 \tLoss: 4.398903283397709\n",
            "Epoch: 5 \tLoss: 4.3500262635999025\n",
            "Epoch: 6 \tLoss: 4.301404581660718\n",
            "Epoch: 7 \tLoss: 4.252897264683141\n",
            "Epoch: 8 \tLoss: 4.204505747398444\n",
            "Epoch: 9 \tLoss: 4.1560523045801485\n",
            "Epoch: 10 \tLoss: 4.107684055260853\n",
            "Epoch: 11 \tLoss: 4.059220898467882\n",
            "Epoch: 12 \tLoss: 4.010632029676859\n",
            "Epoch: 13 \tLoss: 3.9617492899430538\n",
            "Epoch: 14 \tLoss: 3.9128495634129616\n",
            "Epoch: 15 \tLoss: 3.8638516210876737\n",
            "Epoch: 16 \tLoss: 3.8144494052481863\n",
            "Epoch: 17 \tLoss: 3.7648165922249315\n",
            "Epoch: 18 \tLoss: 3.7148066474273143\n",
            "Epoch: 19 \tLoss: 3.664447328685659\n",
            "Epoch: 20 \tLoss: 3.6135948717066673\n",
            "Epoch: 21 \tLoss: 3.5623131747794363\n",
            "Epoch: 22 \tLoss: 3.510635980462606\n",
            "Epoch: 23 \tLoss: 3.4585176727413076\n",
            "Epoch: 24 \tLoss: 3.406037719903794\n",
            "Epoch: 25 \tLoss: 3.3533213866495455\n",
            "Epoch: 26 \tLoss: 3.300211868454925\n",
            "Epoch: 27 \tLoss: 3.247039621910163\n",
            "Epoch: 28 \tLoss: 3.1934320029959213\n",
            "Epoch: 29 \tLoss: 3.139693852019521\n",
            "Epoch: 30 \tLoss: 3.085538133055763\n",
            "Epoch: 31 \tLoss: 3.031216656739733\n",
            "Epoch: 32 \tLoss: 2.9766134197733045\n",
            "Epoch: 33 \tLoss: 2.921744662576017\n",
            "Epoch: 34 \tLoss: 2.866757141277853\n",
            "Epoch: 35 \tLoss: 2.8115758273453837\n",
            "Epoch: 36 \tLoss: 2.756245742329454\n",
            "Epoch: 37 \tLoss: 2.700962440629976\n",
            "Epoch: 38 \tLoss: 2.6454731816739105\n",
            "Epoch: 39 \tLoss: 2.589671830160428\n",
            "Epoch: 40 \tLoss: 2.5339704477681524\n",
            "Epoch: 41 \tLoss: 2.47815006997733\n",
            "Epoch: 42 \tLoss: 2.422197148071981\n",
            "Epoch: 43 \tLoss: 2.3662736866853935\n",
            "Epoch: 44 \tLoss: 2.3103534252242706\n",
            "Epoch: 45 \tLoss: 2.254584440879062\n",
            "Epoch: 46 \tLoss: 2.198891295004735\n",
            "Epoch: 47 \tLoss: 2.1432694473625284\n",
            "Epoch: 48 \tLoss: 2.0879021321250275\n",
            "Epoch: 49 \tLoss: 2.0326400433493927\n",
            "Epoch: 50 \tLoss: 1.9777094637398172\n",
            "Epoch: 51 \tLoss: 1.92299395483152\n",
            "Epoch: 52 \tLoss: 1.8688049197724435\n",
            "Epoch: 53 \tLoss: 1.8148129430756104\n",
            "Epoch: 54 \tLoss: 1.7612990428388646\n",
            "Epoch: 55 \tLoss: 1.7083106700298005\n",
            "Epoch: 56 \tLoss: 1.6559719492112641\n",
            "Epoch: 57 \tLoss: 1.6041046816163358\n",
            "Epoch: 58 \tLoss: 1.5529709126042053\n",
            "Epoch: 59 \tLoss: 1.5027387114488973\n",
            "Epoch: 60 \tLoss: 1.4530427728870274\n",
            "Epoch: 61 \tLoss: 1.4042525878258512\n",
            "Epoch: 62 \tLoss: 1.3563422463109007\n",
            "Epoch: 63 \tLoss: 1.309265329774502\n",
            "Epoch: 64 \tLoss: 1.2631993906951584\n",
            "Epoch: 65 \tLoss: 1.2181190419777306\n",
            "Epoch: 66 \tLoss: 1.174088343186716\n",
            "Epoch: 67 \tLoss: 1.1310801897692468\n",
            "Epoch: 68 \tLoss: 1.0892443471645887\n",
            "Epoch: 69 \tLoss: 1.0485785269236143\n",
            "Epoch: 70 \tLoss: 1.008999506258859\n",
            "Epoch: 71 \tLoss: 0.9706246037266951\n",
            "Epoch: 72 \tLoss: 0.9334493548469206\n",
            "Epoch: 73 \tLoss: 0.897590739866801\n",
            "Epoch: 74 \tLoss: 0.8628440271832246\n",
            "Epoch: 75 \tLoss: 0.8293434043901157\n",
            "Epoch: 76 \tLoss: 0.7970988490676458\n",
            "Epoch: 77 \tLoss: 0.7660533788457381\n",
            "Epoch: 78 \tLoss: 0.7362418888812572\n",
            "Epoch: 79 \tLoss: 0.7076204014958534\n",
            "Epoch: 80 \tLoss: 0.6802371479241194\n",
            "Epoch: 81 \tLoss: 0.6539257788552647\n",
            "Epoch: 82 \tLoss: 0.6288072550586895\n",
            "Epoch: 83 \tLoss: 0.6048065497811916\n",
            "Epoch: 84 \tLoss: 0.5818573043277834\n",
            "Epoch: 85 \tLoss: 0.5599767928366113\n",
            "Epoch: 86 \tLoss: 0.5390919034855556\n",
            "Epoch: 87 \tLoss: 0.5191920546040071\n",
            "Epoch: 88 \tLoss: 0.5001844951668671\n",
            "Epoch: 89 \tLoss: 0.48213897065251277\n",
            "Epoch: 90 \tLoss: 0.4649696447680482\n",
            "Epoch: 91 \tLoss: 0.4486017142117551\n",
            "Epoch: 92 \tLoss: 0.43305513434178006\n",
            "Epoch: 93 \tLoss: 0.4182616935433012\n",
            "Epoch: 94 \tLoss: 0.40419081647971034\n",
            "Epoch: 95 \tLoss: 0.3908233077191146\n",
            "Epoch: 96 \tLoss: 0.3781039626131543\n",
            "Epoch: 97 \tLoss: 0.3659992352853307\n",
            "Epoch: 98 \tLoss: 0.35451615209468695\n",
            "Epoch: 99 \tLoss: 0.343579112329578\n"
          ]
        }
      ],
      "source": [
        "EMBEDDING_DIM = 100\n",
        "\n",
        "class NGramLanguageModeler(nn.Module):\n",
        "\n",
        "    def __init__(self, vocab_size, embedding_dim, context_size):\n",
        "        super().__init__()\n",
        "        self.embeddings = nn.Embedding(vocab_size, embedding_dim)\n",
        "        self.linear1 = nn.Linear(context_size * embedding_dim, 128)\n",
        "        self.linear2 = nn.Linear(128, vocab_size)\n",
        "\n",
        "    def forward(self, inputs):\n",
        "        embeds = self.embeddings(inputs).view((1, -1))\n",
        "        out = F.relu(self.linear1(embeds))\n",
        "        out = self.linear2(out)\n",
        "        log_probs = F.log_softmax(out, dim=1)\n",
        "        return log_probs\n",
        "\n",
        "\n",
        "\n",
        "loss_function = nn.NLLLoss()\n",
        "model = NGramLanguageModeler(len(vocab), EMBEDDING_DIM, CONTEXT_SIZE)\n",
        "optimizer = optim.SGD(model.parameters(), lr=0.001)\n",
        "\n",
        "for epoch in range(100):\n",
        "    total_loss = 0\n",
        "    for context, target in trigrams:\n",
        "\n",
        "        # Step 1. Prepare the inputs to be passed to the model (i.e, turn the words\n",
        "        # into integer indices and wrap them in tensors)\n",
        "        context_idxs = torch.tensor([word_to_ix[w] for w in context], dtype=torch.long)\n",
        "\n",
        "        # Step 2. Recall that torch *accumulates* gradients. Before passing in a\n",
        "        # new instance, you need to zero out the gradients from the old\n",
        "        # instance\n",
        "        model.zero_grad()\n",
        "\n",
        "        # Step 3. Run the forward pass, getting log probabilities over next\n",
        "        # words\n",
        "        log_probs = model(context_idxs)\n",
        "\n",
        "        # Step 4. Compute your loss function. (Again, Torch wants the target\n",
        "        # word wrapped in a tensor)\n",
        "        loss = loss_function(log_probs, torch.tensor([word_to_ix[target]], dtype=torch.long))\n",
        "\n",
        "        # Step 5. Do the backward pass and update the gradient\n",
        "        loss.backward()\n",
        "        optimizer.step()\n",
        "\n",
        "        # Get the Python number from a 1-element Tensor by calling tensor.item()\n",
        "        total_loss += loss.item()\n",
        "    average_loss= total_loss/len(trigrams)\n",
        "    print('Epoch:', epoch, '\\tLoss:', average_loss)  # The loss decreased every iteration over the training data!"
      ]
    },
    {
      "cell_type": "markdown",
      "metadata": {
        "id": "HLgksVn9vhFU"
      },
      "source": [
        "##  Check the results"
      ]
    },
    {
      "cell_type": "markdown",
      "metadata": {
        "id": "uwANR8DbvhFV"
      },
      "source": [
        "We can inspect some of the word embedding values in a pandas DataFrame:"
      ]
    },
    {
      "cell_type": "code",
      "execution_count": 7,
      "metadata": {
        "scrolled": true,
        "colab": {
          "base_uri": "https://localhost:8080/",
          "height": 255
        },
        "id": "_IhcjLcKvhFV",
        "outputId": "1b6d03b2-07ae-4409-f6cf-84146eaa06c5"
      },
      "outputs": [
        {
          "output_type": "execute_result",
          "data": {
            "text/plain": [
              "            0         1         2         3         4         5         6   \\\n",
              "so    0.865281  0.240769 -0.665950  0.810370  0.436625  1.171697  1.770766   \n",
              "and   0.159123  1.261457  1.330596 -0.492620 -1.982555  1.802107  0.102464   \n",
              "Thy   0.217799 -0.573864  1.458807  1.771168 -2.017669  0.424234  0.575190   \n",
              "art   0.142220  0.203368  1.056088  0.131701  1.407113  0.486096 -0.703741   \n",
              "when -0.376494 -2.414523 -1.280701 -0.061771 -1.238935 -1.066652 -0.384546   \n",
              "\n",
              "            7         8         9   ...        90        91        92  \\\n",
              "so   -0.092994  0.061331 -0.618091  ... -1.482662 -1.136105 -0.101541   \n",
              "and   0.342978 -0.644436 -0.286138  ... -1.107736 -0.702849  0.236290   \n",
              "Thy  -1.802324  1.250004  1.276605  ...  0.247208 -0.388242 -0.201555   \n",
              "art  -0.826745  0.099715  0.196483  ...  0.347335 -0.553808 -0.958077   \n",
              "when  0.378953 -0.209010  0.695354  ...  0.296165 -0.562376  0.724947   \n",
              "\n",
              "            93        94        95        96        97        98        99  \n",
              "so    0.344454 -1.071472 -0.871339  0.205001  0.304631  0.537000 -0.431783  \n",
              "and   1.915742  1.840734  1.327504 -0.070809  0.347923 -0.659844  1.564610  \n",
              "Thy  -0.839749 -1.553841 -0.059150  1.200726 -2.286772 -1.015283 -0.887929  \n",
              "art   0.277487 -0.678561 -0.544651  1.153588 -0.398194  0.971592  1.547197  \n",
              "when -0.546624 -0.804582  0.018493 -0.151203  0.524737 -0.212628 -1.260495  \n",
              "\n",
              "[5 rows x 100 columns]"
            ],
            "text/html": [
              "\n",
              "  <div id=\"df-7f105154-75f3-4d28-ada8-6940e550a85c\" class=\"colab-df-container\">\n",
              "    <div>\n",
              "<style scoped>\n",
              "    .dataframe tbody tr th:only-of-type {\n",
              "        vertical-align: middle;\n",
              "    }\n",
              "\n",
              "    .dataframe tbody tr th {\n",
              "        vertical-align: top;\n",
              "    }\n",
              "\n",
              "    .dataframe thead th {\n",
              "        text-align: right;\n",
              "    }\n",
              "</style>\n",
              "<table border=\"1\" class=\"dataframe\">\n",
              "  <thead>\n",
              "    <tr style=\"text-align: right;\">\n",
              "      <th></th>\n",
              "      <th>0</th>\n",
              "      <th>1</th>\n",
              "      <th>2</th>\n",
              "      <th>3</th>\n",
              "      <th>4</th>\n",
              "      <th>5</th>\n",
              "      <th>6</th>\n",
              "      <th>7</th>\n",
              "      <th>8</th>\n",
              "      <th>9</th>\n",
              "      <th>...</th>\n",
              "      <th>90</th>\n",
              "      <th>91</th>\n",
              "      <th>92</th>\n",
              "      <th>93</th>\n",
              "      <th>94</th>\n",
              "      <th>95</th>\n",
              "      <th>96</th>\n",
              "      <th>97</th>\n",
              "      <th>98</th>\n",
              "      <th>99</th>\n",
              "    </tr>\n",
              "  </thead>\n",
              "  <tbody>\n",
              "    <tr>\n",
              "      <th>so</th>\n",
              "      <td>0.865281</td>\n",
              "      <td>0.240769</td>\n",
              "      <td>-0.665950</td>\n",
              "      <td>0.810370</td>\n",
              "      <td>0.436625</td>\n",
              "      <td>1.171697</td>\n",
              "      <td>1.770766</td>\n",
              "      <td>-0.092994</td>\n",
              "      <td>0.061331</td>\n",
              "      <td>-0.618091</td>\n",
              "      <td>...</td>\n",
              "      <td>-1.482662</td>\n",
              "      <td>-1.136105</td>\n",
              "      <td>-0.101541</td>\n",
              "      <td>0.344454</td>\n",
              "      <td>-1.071472</td>\n",
              "      <td>-0.871339</td>\n",
              "      <td>0.205001</td>\n",
              "      <td>0.304631</td>\n",
              "      <td>0.537000</td>\n",
              "      <td>-0.431783</td>\n",
              "    </tr>\n",
              "    <tr>\n",
              "      <th>and</th>\n",
              "      <td>0.159123</td>\n",
              "      <td>1.261457</td>\n",
              "      <td>1.330596</td>\n",
              "      <td>-0.492620</td>\n",
              "      <td>-1.982555</td>\n",
              "      <td>1.802107</td>\n",
              "      <td>0.102464</td>\n",
              "      <td>0.342978</td>\n",
              "      <td>-0.644436</td>\n",
              "      <td>-0.286138</td>\n",
              "      <td>...</td>\n",
              "      <td>-1.107736</td>\n",
              "      <td>-0.702849</td>\n",
              "      <td>0.236290</td>\n",
              "      <td>1.915742</td>\n",
              "      <td>1.840734</td>\n",
              "      <td>1.327504</td>\n",
              "      <td>-0.070809</td>\n",
              "      <td>0.347923</td>\n",
              "      <td>-0.659844</td>\n",
              "      <td>1.564610</td>\n",
              "    </tr>\n",
              "    <tr>\n",
              "      <th>Thy</th>\n",
              "      <td>0.217799</td>\n",
              "      <td>-0.573864</td>\n",
              "      <td>1.458807</td>\n",
              "      <td>1.771168</td>\n",
              "      <td>-2.017669</td>\n",
              "      <td>0.424234</td>\n",
              "      <td>0.575190</td>\n",
              "      <td>-1.802324</td>\n",
              "      <td>1.250004</td>\n",
              "      <td>1.276605</td>\n",
              "      <td>...</td>\n",
              "      <td>0.247208</td>\n",
              "      <td>-0.388242</td>\n",
              "      <td>-0.201555</td>\n",
              "      <td>-0.839749</td>\n",
              "      <td>-1.553841</td>\n",
              "      <td>-0.059150</td>\n",
              "      <td>1.200726</td>\n",
              "      <td>-2.286772</td>\n",
              "      <td>-1.015283</td>\n",
              "      <td>-0.887929</td>\n",
              "    </tr>\n",
              "    <tr>\n",
              "      <th>art</th>\n",
              "      <td>0.142220</td>\n",
              "      <td>0.203368</td>\n",
              "      <td>1.056088</td>\n",
              "      <td>0.131701</td>\n",
              "      <td>1.407113</td>\n",
              "      <td>0.486096</td>\n",
              "      <td>-0.703741</td>\n",
              "      <td>-0.826745</td>\n",
              "      <td>0.099715</td>\n",
              "      <td>0.196483</td>\n",
              "      <td>...</td>\n",
              "      <td>0.347335</td>\n",
              "      <td>-0.553808</td>\n",
              "      <td>-0.958077</td>\n",
              "      <td>0.277487</td>\n",
              "      <td>-0.678561</td>\n",
              "      <td>-0.544651</td>\n",
              "      <td>1.153588</td>\n",
              "      <td>-0.398194</td>\n",
              "      <td>0.971592</td>\n",
              "      <td>1.547197</td>\n",
              "    </tr>\n",
              "    <tr>\n",
              "      <th>when</th>\n",
              "      <td>-0.376494</td>\n",
              "      <td>-2.414523</td>\n",
              "      <td>-1.280701</td>\n",
              "      <td>-0.061771</td>\n",
              "      <td>-1.238935</td>\n",
              "      <td>-1.066652</td>\n",
              "      <td>-0.384546</td>\n",
              "      <td>0.378953</td>\n",
              "      <td>-0.209010</td>\n",
              "      <td>0.695354</td>\n",
              "      <td>...</td>\n",
              "      <td>0.296165</td>\n",
              "      <td>-0.562376</td>\n",
              "      <td>0.724947</td>\n",
              "      <td>-0.546624</td>\n",
              "      <td>-0.804582</td>\n",
              "      <td>0.018493</td>\n",
              "      <td>-0.151203</td>\n",
              "      <td>0.524737</td>\n",
              "      <td>-0.212628</td>\n",
              "      <td>-1.260495</td>\n",
              "    </tr>\n",
              "  </tbody>\n",
              "</table>\n",
              "<p>5 rows × 100 columns</p>\n",
              "</div>\n",
              "    <div class=\"colab-df-buttons\">\n",
              "\n",
              "  <div class=\"colab-df-container\">\n",
              "    <button class=\"colab-df-convert\" onclick=\"convertToInteractive('df-7f105154-75f3-4d28-ada8-6940e550a85c')\"\n",
              "            title=\"Convert this dataframe to an interactive table.\"\n",
              "            style=\"display:none;\">\n",
              "\n",
              "  <svg xmlns=\"http://www.w3.org/2000/svg\" height=\"24px\" viewBox=\"0 -960 960 960\">\n",
              "    <path d=\"M120-120v-720h720v720H120Zm60-500h600v-160H180v160Zm220 220h160v-160H400v160Zm0 220h160v-160H400v160ZM180-400h160v-160H180v160Zm440 0h160v-160H620v160ZM180-180h160v-160H180v160Zm440 0h160v-160H620v160Z\"/>\n",
              "  </svg>\n",
              "    </button>\n",
              "\n",
              "  <style>\n",
              "    .colab-df-container {\n",
              "      display:flex;\n",
              "      gap: 12px;\n",
              "    }\n",
              "\n",
              "    .colab-df-convert {\n",
              "      background-color: #E8F0FE;\n",
              "      border: none;\n",
              "      border-radius: 50%;\n",
              "      cursor: pointer;\n",
              "      display: none;\n",
              "      fill: #1967D2;\n",
              "      height: 32px;\n",
              "      padding: 0 0 0 0;\n",
              "      width: 32px;\n",
              "    }\n",
              "\n",
              "    .colab-df-convert:hover {\n",
              "      background-color: #E2EBFA;\n",
              "      box-shadow: 0px 1px 2px rgba(60, 64, 67, 0.3), 0px 1px 3px 1px rgba(60, 64, 67, 0.15);\n",
              "      fill: #174EA6;\n",
              "    }\n",
              "\n",
              "    .colab-df-buttons div {\n",
              "      margin-bottom: 4px;\n",
              "    }\n",
              "\n",
              "    [theme=dark] .colab-df-convert {\n",
              "      background-color: #3B4455;\n",
              "      fill: #D2E3FC;\n",
              "    }\n",
              "\n",
              "    [theme=dark] .colab-df-convert:hover {\n",
              "      background-color: #434B5C;\n",
              "      box-shadow: 0px 1px 3px 1px rgba(0, 0, 0, 0.15);\n",
              "      filter: drop-shadow(0px 1px 2px rgba(0, 0, 0, 0.3));\n",
              "      fill: #FFFFFF;\n",
              "    }\n",
              "  </style>\n",
              "\n",
              "    <script>\n",
              "      const buttonEl =\n",
              "        document.querySelector('#df-7f105154-75f3-4d28-ada8-6940e550a85c button.colab-df-convert');\n",
              "      buttonEl.style.display =\n",
              "        google.colab.kernel.accessAllowed ? 'block' : 'none';\n",
              "\n",
              "      async function convertToInteractive(key) {\n",
              "        const element = document.querySelector('#df-7f105154-75f3-4d28-ada8-6940e550a85c');\n",
              "        const dataTable =\n",
              "          await google.colab.kernel.invokeFunction('convertToInteractive',\n",
              "                                                    [key], {});\n",
              "        if (!dataTable) return;\n",
              "\n",
              "        const docLinkHtml = 'Like what you see? Visit the ' +\n",
              "          '<a target=\"_blank\" href=https://colab.research.google.com/notebooks/data_table.ipynb>data table notebook</a>'\n",
              "          + ' to learn more about interactive tables.';\n",
              "        element.innerHTML = '';\n",
              "        dataTable['output_type'] = 'display_data';\n",
              "        await google.colab.output.renderOutput(dataTable, element);\n",
              "        const docLink = document.createElement('div');\n",
              "        docLink.innerHTML = docLinkHtml;\n",
              "        element.appendChild(docLink);\n",
              "      }\n",
              "    </script>\n",
              "  </div>\n",
              "\n",
              "\n",
              "<div id=\"df-0eed7130-5391-46b5-8ff3-051e0b3f24ee\">\n",
              "  <button class=\"colab-df-quickchart\" onclick=\"quickchart('df-0eed7130-5391-46b5-8ff3-051e0b3f24ee')\"\n",
              "            title=\"Suggest charts\"\n",
              "            style=\"display:none;\">\n",
              "\n",
              "<svg xmlns=\"http://www.w3.org/2000/svg\" height=\"24px\"viewBox=\"0 0 24 24\"\n",
              "     width=\"24px\">\n",
              "    <g>\n",
              "        <path d=\"M19 3H5c-1.1 0-2 .9-2 2v14c0 1.1.9 2 2 2h14c1.1 0 2-.9 2-2V5c0-1.1-.9-2-2-2zM9 17H7v-7h2v7zm4 0h-2V7h2v10zm4 0h-2v-4h2v4z\"/>\n",
              "    </g>\n",
              "</svg>\n",
              "  </button>\n",
              "\n",
              "<style>\n",
              "  .colab-df-quickchart {\n",
              "      --bg-color: #E8F0FE;\n",
              "      --fill-color: #1967D2;\n",
              "      --hover-bg-color: #E2EBFA;\n",
              "      --hover-fill-color: #174EA6;\n",
              "      --disabled-fill-color: #AAA;\n",
              "      --disabled-bg-color: #DDD;\n",
              "  }\n",
              "\n",
              "  [theme=dark] .colab-df-quickchart {\n",
              "      --bg-color: #3B4455;\n",
              "      --fill-color: #D2E3FC;\n",
              "      --hover-bg-color: #434B5C;\n",
              "      --hover-fill-color: #FFFFFF;\n",
              "      --disabled-bg-color: #3B4455;\n",
              "      --disabled-fill-color: #666;\n",
              "  }\n",
              "\n",
              "  .colab-df-quickchart {\n",
              "    background-color: var(--bg-color);\n",
              "    border: none;\n",
              "    border-radius: 50%;\n",
              "    cursor: pointer;\n",
              "    display: none;\n",
              "    fill: var(--fill-color);\n",
              "    height: 32px;\n",
              "    padding: 0;\n",
              "    width: 32px;\n",
              "  }\n",
              "\n",
              "  .colab-df-quickchart:hover {\n",
              "    background-color: var(--hover-bg-color);\n",
              "    box-shadow: 0 1px 2px rgba(60, 64, 67, 0.3), 0 1px 3px 1px rgba(60, 64, 67, 0.15);\n",
              "    fill: var(--button-hover-fill-color);\n",
              "  }\n",
              "\n",
              "  .colab-df-quickchart-complete:disabled,\n",
              "  .colab-df-quickchart-complete:disabled:hover {\n",
              "    background-color: var(--disabled-bg-color);\n",
              "    fill: var(--disabled-fill-color);\n",
              "    box-shadow: none;\n",
              "  }\n",
              "\n",
              "  .colab-df-spinner {\n",
              "    border: 2px solid var(--fill-color);\n",
              "    border-color: transparent;\n",
              "    border-bottom-color: var(--fill-color);\n",
              "    animation:\n",
              "      spin 1s steps(1) infinite;\n",
              "  }\n",
              "\n",
              "  @keyframes spin {\n",
              "    0% {\n",
              "      border-color: transparent;\n",
              "      border-bottom-color: var(--fill-color);\n",
              "      border-left-color: var(--fill-color);\n",
              "    }\n",
              "    20% {\n",
              "      border-color: transparent;\n",
              "      border-left-color: var(--fill-color);\n",
              "      border-top-color: var(--fill-color);\n",
              "    }\n",
              "    30% {\n",
              "      border-color: transparent;\n",
              "      border-left-color: var(--fill-color);\n",
              "      border-top-color: var(--fill-color);\n",
              "      border-right-color: var(--fill-color);\n",
              "    }\n",
              "    40% {\n",
              "      border-color: transparent;\n",
              "      border-right-color: var(--fill-color);\n",
              "      border-top-color: var(--fill-color);\n",
              "    }\n",
              "    60% {\n",
              "      border-color: transparent;\n",
              "      border-right-color: var(--fill-color);\n",
              "    }\n",
              "    80% {\n",
              "      border-color: transparent;\n",
              "      border-right-color: var(--fill-color);\n",
              "      border-bottom-color: var(--fill-color);\n",
              "    }\n",
              "    90% {\n",
              "      border-color: transparent;\n",
              "      border-bottom-color: var(--fill-color);\n",
              "    }\n",
              "  }\n",
              "</style>\n",
              "\n",
              "  <script>\n",
              "    async function quickchart(key) {\n",
              "      const quickchartButtonEl =\n",
              "        document.querySelector('#' + key + ' button');\n",
              "      quickchartButtonEl.disabled = true;  // To prevent multiple clicks.\n",
              "      quickchartButtonEl.classList.add('colab-df-spinner');\n",
              "      try {\n",
              "        const charts = await google.colab.kernel.invokeFunction(\n",
              "            'suggestCharts', [key], {});\n",
              "      } catch (error) {\n",
              "        console.error('Error during call to suggestCharts:', error);\n",
              "      }\n",
              "      quickchartButtonEl.classList.remove('colab-df-spinner');\n",
              "      quickchartButtonEl.classList.add('colab-df-quickchart-complete');\n",
              "    }\n",
              "    (() => {\n",
              "      let quickchartButtonEl =\n",
              "        document.querySelector('#df-0eed7130-5391-46b5-8ff3-051e0b3f24ee button');\n",
              "      quickchartButtonEl.style.display =\n",
              "        google.colab.kernel.accessAllowed ? 'block' : 'none';\n",
              "    })();\n",
              "  </script>\n",
              "</div>\n",
              "\n",
              "    </div>\n",
              "  </div>\n"
            ],
            "application/vnd.google.colaboratory.intrinsic+json": {
              "type": "dataframe"
            }
          },
          "metadata": {},
          "execution_count": 7
        }
      ],
      "source": [
        "import pandas as pd\n",
        "embeddings = model.embeddings(torch.Tensor([list(range(0,len(vocab)))]).long())\n",
        "embeddings = embeddings.view(-1,100)\n",
        "pd.DataFrame(embeddings.tolist(), index=list(ix_to_word.values())[0:]).head()"
      ]
    },
    {
      "cell_type": "markdown",
      "metadata": {
        "id": "2mJnXU7dvhFV"
      },
      "source": [
        "We can also plot the embeddings with TSNE to visualize the similarity"
      ]
    },
    {
      "cell_type": "code",
      "execution_count": 8,
      "metadata": {
        "id": "UrpxWjSrvhFV"
      },
      "outputs": [],
      "source": [
        "labels=[]\n",
        "for i in range(len(ix_to_word)):\n",
        "    labels.append(ix_to_word[i])"
      ]
    },
    {
      "cell_type": "code",
      "execution_count": 9,
      "metadata": {
        "scrolled": true,
        "colab": {
          "base_uri": "https://localhost:8080/",
          "height": 830
        },
        "id": "euZOIgSOvhFV",
        "outputId": "1db55efc-1c74-45cc-c604-16f7a920869b"
      },
      "outputs": [
        {
          "output_type": "display_data",
          "data": {
            "text/plain": [
              "<Figure size 1000x1000 with 1 Axes>"
            ],
            "image/png": "[encoded data removed]"
          },
          "metadata": {}
        }
      ],
      "source": [
        "from matplotlib import pylab\n",
        "from sklearn.manifold import TSNE\n",
        "\n",
        "tsne = TSNE(n_components=2)\n",
        "two_d_embeddings = tsne.fit_transform(embeddings.detach().numpy())\n",
        "\n",
        "def plot(embeddings, labels):\n",
        "      assert embeddings.shape[0] >= len(labels), 'More labels than embeddings'\n",
        "      pylab.figure(figsize=(10,10))  # in inches\n",
        "      for i, label in enumerate(labels):\n",
        "        x, y = embeddings[i,:]\n",
        "        pylab.scatter(x, y)\n",
        "        pylab.annotate(label, xy=(x, y), xytext=(5, 2), textcoords='offset points',\n",
        "                       ha='right', va='bottom')\n",
        "      pylab.show()\n",
        "\n",
        "\n",
        "plot(two_d_embeddings, labels)"
      ]
    },
    {
      "cell_type": "code",
      "execution_count": 10,
      "metadata": {
        "colab": {
          "base_uri": "https://localhost:8080/"
        },
        "id": "VpA__2k0vhFW",
        "outputId": "b133055b-ccce-4843-fc5f-c827499f409d"
      },
      "outputs": [
        {
          "output_type": "stream",
          "name": "stdout",
          "text": [
            "Raw text: When forty winters shall besiege thy brow, And dig deep trenches in thy beauty's field, Thy youth's proud livery so gazed on now, Will be a totter'd weed of small worth held: Then being asked, where all thy beauty lies, Where all the treasure of thy lusty days; To say, within thine own deep sunken eyes, Were an all-eating shame, and thriftless praise. How much more praise deserv'd thy beauty's use, If thou couldst answer 'This fair child of mine Shall sum my count, and make my old excuse,' Proving his beauty by succession thine! This were to be new made when thou art old, And see thy blood warm when thou feel'st it cold.\n",
            "\n",
            "Context: ['When', 'forty']\n",
            "\n",
            "Prediction: winters\n"
          ]
        }
      ],
      "source": [
        "context = ['When','forty']\n",
        "\n",
        "a = model(torch.tensor([word_to_ix[w] for w in context]))\n",
        "\n",
        "#Print result\n",
        "print(f'Raw text: {\" \".join(test_sentence)}\\n')\n",
        "print(f'Context: {context}\\n')\n",
        "print(f'Prediction: {ix_to_word[torch.argmax(a[0]).item()]}')"
      ]
    },
    {
      "cell_type": "markdown",
      "metadata": {
        "id": "TuCM5LSqjR4V"
      },
      "source": [
        "# Practical part  1: Computing Word Embeddings -- Continuous Bag-of-Words in a Toy example\n",
        "\n",
        "\n",
        "The Continuous Bag-of-Words model (CBOW) is frequently used in NLP deep\n",
        "learning. It is a model that tries to predict words given the context of\n",
        "a few words before and a few words after the target word. This is\n",
        "distinct from typical practices in language modeling, since CBOW is not sequential and does\n",
        "not have to be probabilistic. Typcially, CBOW is used to quickly train\n",
        "word embeddings, and these embeddings are used to initialize the\n",
        "embeddings of some more complicated model. Usually, this is referred to\n",
        "as *pretraining embeddings*. It almost always helps performance a couple\n",
        "of percent.\n",
        "\n",
        "The CBOW model is as follows. Given a target word $w_i$ and an\n",
        "$N$ context window on each side, $w_{i-1}, \\dots, w_{i-N}$\n",
        "and $w_{i+1}, \\dots, w_{i+N}$, referring to all context words\n",
        "collectively as $C$, CBOW tries to minimize\n",
        "\n",
        "\\begin{align}-\\log p(w_i | C) = -\\log \\text{Softmax}(A(\\sum_{w \\in C} q_w) + b)\\end{align}\n",
        "\n",
        "where $q_w$ is the embedding for word $w$.\n",
        "\n",
        "Implement this model in Pytorch by filling in the class below. Some\n",
        "tips:\n",
        "\n",
        "* Think about which parameters you need to define.\n",
        "* Make sure you know what shape each operation expects. Use .view() if you need to\n",
        "  reshape.\n",
        "\n"
      ]
    },
    {
      "cell_type": "markdown",
      "metadata": {
        "id": "UynjOXjdvhFW"
      },
      "source": [
        "##  Data Preprocessing\n",
        "\n",
        "The CBOW model architecture tries to predict the current target word (the center word) based on the source context words (surrounding words). Considering a simple sentence, `the quick brown fox jumps over the lazy dog`, this can be pairs of (context_window, target_word) where if we consider a context size 2 (2 words to the left, 2 to the right),  we have examples like `([the, quick, fox, jumps], brown)` and so on. Thus the model tries to predict the target_word based on the context_window words.\n",
        "\n",
        "\n",
        "Therefore should build a list of tuples.  Each tuple is `([ word_i-2, word_i-1,word_i+1, word_i+2 ], target word)`, we also build dictionaries to map from words to indices, i.e. word_to_ix, and map from indices to words, i.e. ix_to_word,"
      ]
    },
    {
      "cell_type": "code",
      "execution_count": 11,
      "metadata": {
        "colab": {
          "base_uri": "https://localhost:8080/"
        },
        "id": "aF_Dt4NWvhFW",
        "outputId": "15f6cae6-5f05-49b1-bf70-934c34e03919"
      },
      "outputs": [
        {
          "output_type": "stream",
          "name": "stdout",
          "text": [
            "[(['We', 'are', 'to', 'study'], 'about'), (['are', 'about', 'study', 'the'], 'to'), (['about', 'to', 'the', 'idea'], 'study'), (['to', 'study', 'idea', 'of'], 'the'), (['study', 'the', 'of', 'a'], 'idea')]\n"
          ]
        }
      ],
      "source": [
        "import torch\n",
        "import torch.nn as nn\n",
        "\n",
        "\n",
        "CONTEXT_SIZE = 2  # 2 words to the left, 2 to the right\n",
        "EMBEDDING_DIM = 100\n",
        "\n",
        "raw_text = \"\"\"We are about to study the idea of a computational process.\n",
        "Computational processes are abstract beings that inhabit computers.\n",
        "As they evolve, processes manipulate other abstract things called data.\n",
        "The evolution of a process is directed by a pattern of rules\n",
        "called a program. People create programs to direct processes. In effect,\n",
        "we conjure the spirits of the computer with our spells.\"\"\".split()\n",
        "\n",
        "\n",
        "# By deriving a set from `raw_text`, we deduplicate the array\n",
        "vocab = set(raw_text)\n",
        "vocab_size = len(vocab)\n",
        "\n",
        "word_to_ix = {word:ix for ix, word in enumerate(vocab)}\n",
        "ix_to_word = {ix:word for ix, word in enumerate(vocab)}\n",
        "\n",
        "data = []\n",
        "for i in range(2, len(raw_text) - 2):\n",
        "    context = [raw_text[i - 2], raw_text[i - 1],\n",
        "               raw_text[i + 1], raw_text[i + 2]]\n",
        "    target = raw_text[i]\n",
        "    data.append((context, target))\n",
        "\n",
        "print(data[:5])"
      ]
    },
    {
      "cell_type": "markdown",
      "metadata": {
        "id": "3n076D6YvhFW"
      },
      "source": [
        "\n",
        "## Create CBoW Model\n",
        "Following is an image to illustrate the model architecture. We set the word embedding size to be 100 (or other by your preference)."
      ]
    },
    {
      "cell_type": "markdown",
      "metadata": {
        "id": "T6z67IaNvhFW"
      },
      "source": [
        "![avatar](https://miro.medium.com/max/328/1*bkrBASpteKfCaxZDEEeN6g.png)"
      ]
    },
    {
      "cell_type": "code",
      "execution_count": 22,
      "metadata": {
        "id": "c83HvD2hjR4W",
        "scrolled": true,
        "colab": {
          "base_uri": "https://localhost:8080/"
        },
        "outputId": "a3bdac48-5361-49fe-8948-64900234c448"
      },
      "outputs": [
        {
          "output_type": "stream",
          "name": "stdout",
          "text": [
            "Epoch: 0 \tLoss: 4.367630161088089\n",
            "Epoch: 1 \tLoss: 3.9608378307572725\n",
            "Epoch: 2 \tLoss: 3.584043698064212\n",
            "Epoch: 3 \tLoss: 3.2378372776097266\n",
            "Epoch: 4 \tLoss: 2.922270150020205\n",
            "Epoch: 5 \tLoss: 2.6364065162066757\n",
            "Epoch: 6 \tLoss: 2.3782750152308365\n",
            "Epoch: 7 \tLoss: 2.1453873813152313\n",
            "Epoch: 8 \tLoss: 1.935342113519537\n",
            "Epoch: 9 \tLoss: 1.7461058425492253\n",
            "Epoch: 10 \tLoss: 1.5759965294394\n",
            "Epoch: 11 \tLoss: 1.423549352021053\n",
            "Epoch: 12 \tLoss: 1.2873942774945293\n",
            "Epoch: 13 \tLoss: 1.1661920424165397\n",
            "Epoch: 14 \tLoss: 1.058619033673714\n",
            "Epoch: 15 \tLoss: 0.9633756315913694\n",
            "Epoch: 16 \tLoss: 0.8792010263122362\n",
            "Epoch: 17 \tLoss: 0.8048886882847753\n",
            "Epoch: 18 \tLoss: 0.7393014220328167\n",
            "Epoch: 19 \tLoss: 0.6813837256411026\n",
            "Epoch: 20 \tLoss: 0.6301716401659209\n",
            "Epoch: 21 \tLoss: 0.5847984688549206\n",
            "Epoch: 22 \tLoss: 0.5444963489627016\n",
            "Epoch: 23 \tLoss: 0.5085930110051714\n",
            "Epoch: 24 \tLoss: 0.4765059308245264\n",
            "Epoch: 25 \tLoss: 0.44773339223245096\n",
            "Epoch: 26 \tLoss: 0.421845434554692\n",
            "Epoch: 27 \tLoss: 0.398474120117467\n",
            "Epoch: 28 \tLoss: 0.37730468449921445\n",
            "Epoch: 29 \tLoss: 0.35806760525908965\n",
            "Epoch: 30 \tLoss: 0.3405317059107896\n",
            "Epoch: 31 \tLoss: 0.32449822436118947\n",
            "Epoch: 32 \tLoss: 0.309795879341405\n",
            "Epoch: 33 \tLoss: 0.29627662871418325\n",
            "Epoch: 34 \tLoss: 0.28381218414368303\n",
            "Epoch: 35 \tLoss: 0.27229108725642337\n",
            "Epoch: 36 \tLoss: 0.26161607393416864\n",
            "Epoch: 37 \tLoss: 0.2517021407598051\n",
            "Epoch: 38 \tLoss: 0.24247471679901256\n",
            "Epoch: 39 \tLoss: 0.23386824593461794\n",
            "Epoch: 40 \tLoss: 0.22582492232322693\n",
            "Epoch: 41 \tLoss: 0.21829348352962527\n",
            "Epoch: 42 \tLoss: 0.21122861627874703\n",
            "Epoch: 43 \tLoss: 0.20458988832502528\n",
            "Epoch: 44 \tLoss: 0.198341255044115\n",
            "Epoch: 45 \tLoss: 0.1924505515088295\n",
            "Epoch: 46 \tLoss: 0.18688890569168945\n",
            "Epoch: 47 \tLoss: 0.1816303668351009\n",
            "Epoch: 48 \tLoss: 0.17665154910806952\n",
            "Epoch: 49 \tLoss: 0.1719313986470987\n"
          ]
        }
      ],
      "source": [
        "EMBEDDING_DIM = 100\n",
        "\n",
        "class CBOW(torch.nn.Module):\n",
        "    def __init__(self, vocab_size, embedding_dim):\n",
        "        super().__init__()\n",
        "        self.embeddings = nn.Embedding(vocab_size, embedding_dim)\n",
        "        self.linear = nn.Linear(embedding_dim, vocab_size)\n",
        "\n",
        "\n",
        "    def forward(self, inputs):\n",
        "         embeds = self.embeddings(inputs)\n",
        "         summed_embeds = torch.sum(embeds, dim=0).view((1, -1))\n",
        "         out = self.linear(summed_embeds)\n",
        "         probs = F.log_softmax(out, dim=1)\n",
        "         return probs\n",
        "\n",
        "# create your model and train.  here are some functions to help you make\n",
        "# the data ready for use by your module\n",
        "\n",
        "def make_context_vector(context, word_to_ix):\n",
        "    idxs = [word_to_ix[w] for w in context]\n",
        "    return torch.tensor(idxs, dtype=torch.long)\n",
        "\n",
        "loss_function = nn.NLLLoss()\n",
        "model = CBOW(len(vocab), EMBEDDING_DIM)\n",
        "optimizer = optim.SGD(model.parameters(), lr=0.001)\n",
        "\n",
        "#TRAINING\n",
        "for epoch in range(50):\n",
        "    total_loss = 0\n",
        "    for context, target in data:\n",
        "\n",
        "      context_idxs = torch.tensor([word_to_ix[w] for w in context], dtype=torch.long)\n",
        "\n",
        "      model.zero_grad()\n",
        "\n",
        "      probs = model(context_idxs)\n",
        "\n",
        "      loss = loss_function(probs, torch.tensor([word_to_ix[target]], dtype=torch.long))\n",
        "\n",
        "      loss.backward()\n",
        "      optimizer.step()\n",
        "\n",
        "      total_loss += loss.item()\n",
        "    average_loss= total_loss/len(data)\n",
        "    print('Epoch:', epoch, '\\tLoss:', average_loss)\n"
      ]
    },
    {
      "cell_type": "markdown",
      "metadata": {
        "id": "dgbXNGSIvhFX"
      },
      "source": [
        "##  Check the results\n",
        "\n",
        "Then we check the results by making predictions of target work by context"
      ]
    },
    {
      "cell_type": "code",
      "execution_count": null,
      "metadata": {
        "scrolled": true,
        "id": "lTXeTIalvhFX"
      },
      "outputs": [],
      "source": [
        "context = ['People','create','to', 'direct']\n",
        "context_vector = make_context_vector(context, word_to_ix)\n",
        "a = model(context_vector)\n",
        "\n",
        "#Print result\n",
        "print(f'Raw text: {\" \".join(raw_text)}\\n')\n",
        "print(f'Context: {context}\\n')\n",
        "print(f'Prediction: {ix_to_word[torch.argmax(a[0]).item()]}')"
      ]
    },
    {
      "cell_type": "markdown",
      "metadata": {
        "id": "UUeNaTy4vhFX"
      },
      "source": [
        "# Practical part 2: Computing Word Embeddings in  `Alice in Wonderland` using CBoW"
      ]
    },
    {
      "cell_type": "markdown",
      "metadata": {
        "id": "9JgoMfr3vhFX"
      },
      "source": [
        "Now let's try to build word embedding in a ‘Alice in Wonderland’ instead of a toy example. The word-label mapping dictionaries and corpus are available [here](https://drive.google.com/drive/folders/1mYM29PbWQ4rS0bgKndFJjZlkbcwMaEpO?usp=sharing). You can use the cell bellow to download the necessary data in your working directory."
      ]
    },
    {
      "cell_type": "code",
      "execution_count": null,
      "metadata": {
        "id": "z5SQqlX7vhFX"
      },
      "outputs": [],
      "source": [
        "import gdown\n",
        "gdown.download_folder(\"https://drive.google.com/drive/folders/1mYM29PbWQ4rS0bgKndFJjZlkbcwMaEpO\")"
      ]
    },
    {
      "cell_type": "markdown",
      "metadata": {
        "id": "-RhyA02WvhFY"
      },
      "source": [
        "##  Data Preprocessing"
      ]
    },
    {
      "cell_type": "code",
      "execution_count": null,
      "metadata": {
        "id": "1_8_VIvbvhFY"
      },
      "outputs": [],
      "source": [
        "# modify the path according to your own file location\n",
        "import os\n",
        "data_path=os.path.join(\"/content/Word_embedding_data/\")\n",
        "# if you are not using Colab, change data_path above to where you stored the data locally"
      ]
    },
    {
      "cell_type": "markdown",
      "metadata": {
        "id": "nz6HIWCavhFY"
      },
      "source": [
        "Now we load the data:"
      ]
    },
    {
      "cell_type": "code",
      "execution_count": null,
      "metadata": {
        "id": "kmxiUB0PvhFY"
      },
      "outputs": [],
      "source": [
        "import json\n",
        "with open(os.path.join(data_path,\"alice.json\"),'r') as f:\n",
        "    alice = json.load(f)\n",
        "with open(os.path.join(data_path,\"ix_to_word.json\"),'r') as f:\n",
        "    ix_to_word = json.load(f)\n",
        "with open(os.path.join(data_path,\"word_to_ix.json\"),'r') as f:\n",
        "    word_to_ix = json.load(f)"
      ]
    },
    {
      "cell_type": "markdown",
      "metadata": {
        "id": "pJEYPu6bvhFY"
      },
      "source": [
        "Then we create the context and target pairs by borrowing some keras utilities. We set the window_size 2 (2 words to the left, 2 to the right)."
      ]
    },
    {
      "cell_type": "code",
      "execution_count": null,
      "metadata": {
        "id": "CRv37D6VvhFY"
      },
      "outputs": [],
      "source": [
        "window_size=2\n",
        "vocab_size=len(word_to_ix)\n",
        "\n",
        "from tensorflow.keras.preprocessing import text\n",
        "from tensorflow.keras.preprocessing import sequence\n",
        "from tensorflow.keras.utils import pad_sequences\n",
        "\n",
        "corpus = [[word_to_ix[w] for w in text.text_to_word_sequence(doc)] for doc in alice]\n",
        "\n",
        "def generate_context_word_pairs(corpus, window_size, vocab_size):\n",
        "    X = []\n",
        "    Y = []\n",
        "    context_length = window_size*2\n",
        "    for words in corpus:\n",
        "        sentence_length = len(words)\n",
        "        for index, word in enumerate(words):\n",
        "            start = index - window_size\n",
        "            end = index + window_size + 1\n",
        "            context = [words[i] for i in range(start, end)if 0 <= i < sentence_length and i != index]\n",
        "            x = pad_sequences([context], maxlen=context_length)[0]\n",
        "            X.append(x)\n",
        "            Y.append([word])\n",
        "\n",
        "    X=torch.tensor(X, dtype=torch.long)\n",
        "    Y=torch.tensor(Y, dtype=torch.long)\n",
        "    return X,Y\n",
        "\n",
        "X,Y = generate_context_word_pairs(corpus, window_size=window_size, vocab_size=vocab_size)"
      ]
    },
    {
      "cell_type": "markdown",
      "metadata": {
        "id": "D8Xg_eDYvhFZ"
      },
      "source": [
        "\n",
        "##  Create CBoW Model\n",
        "Now we create CBoW model, we could set the word embedding size to be 100 (or  some other number if you prefer)."
      ]
    },
    {
      "cell_type": "code",
      "execution_count": null,
      "metadata": {
        "id": "a8ClaL2wvhFZ"
      },
      "outputs": [],
      "source": [
        "class CBOW(torch.nn.Module):\n",
        "    def __init__(self):\n",
        "        # === ADD CODE HERE ===\n",
        "\n",
        "    def forward(self, inputs):\n",
        "         # === ADD CODE HERE ===\n",
        "\n",
        "\n",
        "EMBEDDING_DIM=100\n",
        "model = CBOW(vocab_size,EMBEDDING_DIM)"
      ]
    },
    {
      "cell_type": "markdown",
      "metadata": {
        "id": "ojjt_yiovhFZ"
      },
      "source": [
        "Remember to move your model to GPU, since now we are training with a larger corpus."
      ]
    },
    {
      "cell_type": "code",
      "execution_count": null,
      "metadata": {
        "id": "KrvXtlKivhFd"
      },
      "outputs": [],
      "source": [
        "# Move model to GPU\n",
        "# === ADD CODE HERE ==="
      ]
    },
    {
      "cell_type": "markdown",
      "metadata": {
        "id": "m5bBaU_dvhFe"
      },
      "source": [
        "Then we train the model and print the loss. The loss should decrease with every epoch over the training data. You can play with the epochs numbers here."
      ]
    },
    {
      "cell_type": "code",
      "execution_count": null,
      "metadata": {
        "id": "EB5Bes30vhFe"
      },
      "outputs": [],
      "source": [
        "#TRAINING\n",
        "for epoch in range(10):\n",
        "# === ADD CODE HERE ==="
      ]
    },
    {
      "cell_type": "markdown",
      "metadata": {
        "id": "nuARDBlEvhFe"
      },
      "source": [
        "# Practical. 3: Analogy Task"
      ]
    },
    {
      "cell_type": "markdown",
      "metadata": {
        "id": "4AevLwUFvhFe"
      },
      "source": [
        "\n",
        "\n",
        "\n",
        "**Reading material**\n",
        "* [1] Mikolov, Tomas, et al. \"[Efficient Estimation of Word Representations in Vector Space](https://arxiv.org/abs/1301.3781)\" Advances in neural information processing systems. 2013.\n"
      ]
    },
    {
      "cell_type": "markdown",
      "metadata": {
        "id": "NtNmEQRgvhFe"
      },
      "source": [
        "Implement your own function to perform the analogy task (see [1] for concrete examples). Use the same distance metric as in [1]. Your function should be able to answer whether an analogy like: \"a king is to a queen as a man is to a woman\" ($e_{king} - e_{queen} + e_{woman} \\approx e_{man}$) is true.\n",
        "\n",
        "In a perfect scenario, we would like that this analogy ($e_{king} - e_{queen} + e_{woman}$) results in the embedding of the word \"man\". However, it does not always result in exactly the same word embedding. The result of the formula is called the expected or the predicted word embedding. In this context, \"man\" is called the true or the actual word $t$. We want to find the word $p$ in the vocabulary, where the embedding of $p$ (referred to as $e_p$) is the closest to the predicted embedding (i.e. result of the formula). Then, we can check if $p$ is the same word as the true word $t$.  \n",
        "\n",
        "You have to answer an analogy function using each embedding for  CBOW model. Show the true word (with distance similarity value between predicted embedding and true word embedding, i.e. `sim1`) , the predicted word (with distance similarity value between predicted embedding and the embedding of the word in the vocabulary that is closest to this predicted embedding, i.e. `sim2`).\n",
        "\n",
        "Since `Alice in wonder land` is a relatively small dataset to training the model for the analogy task,  we may find it is difficult to get the correct answer by searching the nearest word embedding. Therefore, we extend the predicted word to the nearest `nr` number of words and check if the true word is within them. Do not expect the `nr` to be very small, it could be tens or hundreds."
      ]
    },
    {
      "cell_type": "markdown",
      "metadata": {
        "id": "tvv-AOGmvhFe"
      },
      "source": [
        "<b>HINT</b>: to visualize the results of the analogy tasks , you can print them in a table. An example is given below.\n",
        "\n",
        "\n",
        "| Analogy task | True word (sim1)  | Predicted nearaest word (sim2) | Correct? |True word within the top `nr` nearest word?|\n",
        "|:------:|:------:|:------:|:------:|:------:|\n",
        "|  queen is to king as woman is to ?\t | man (sim1) | predicted_word(sim2) | True / False |   True / False|"
      ]
    },
    {
      "cell_type": "code",
      "execution_count": null,
      "metadata": {
        "id": "QztyvyGSvhFf"
      },
      "outputs": [],
      "source": [
        "analogy=('queen', 'king', 'woman', 'man')"
      ]
    },
    {
      "cell_type": "markdown",
      "metadata": {
        "id": "NyPjeRVvvhFf"
      },
      "source": [
        "First let us extract the embeddings of all vocabularies for the following task"
      ]
    },
    {
      "cell_type": "code",
      "execution_count": null,
      "metadata": {
        "id": "rmcqaDEmvhFf"
      },
      "outputs": [],
      "source": [
        "dev = torch.device(\n",
        "    \"cuda\") if torch.cuda.is_available() else torch.device(\"cpu\")"
      ]
    },
    {
      "cell_type": "code",
      "execution_count": null,
      "metadata": {
        "id": "R41F9-sjvhFf"
      },
      "outputs": [],
      "source": [
        "embeddings = model.embeddings(torch.Tensor([list(range(0,vocab_size))]).long().to(dev))\n",
        "embeddings = embeddings.view(-1,100)\n",
        "embeddings = embeddings.cpu().detach().numpy()"
      ]
    },
    {
      "cell_type": "markdown",
      "metadata": {
        "id": "9-QrxUFavhFf"
      },
      "source": [
        "Then we define a 'get_nearest_words' function to retrive the nearest `nr` words to a certain word embedding"
      ]
    },
    {
      "cell_type": "code",
      "execution_count": null,
      "metadata": {
        "id": "yqWtUskhvhFf"
      },
      "outputs": [],
      "source": [
        "def get_nearest_words():\n",
        "    # === ADD CODE HERE ==="
      ]
    },
    {
      "cell_type": "markdown",
      "metadata": {
        "id": "aSvJ6gCvvhFg"
      },
      "source": [
        "Now let's search for the nearest `one` and `nr` words of the predicted word embedding, and print results of the analogy tasks"
      ]
    },
    {
      "cell_type": "code",
      "execution_count": null,
      "metadata": {
        "id": "2f3mA5DwvhFg"
      },
      "outputs": [],
      "source": [
        "def print_analogy(analogy):\n",
        "    # === ADD CODE HERE ==="
      ]
    },
    {
      "cell_type": "code",
      "execution_count": null,
      "metadata": {
        "id": "LoSEqi1qvhFg"
      },
      "outputs": [],
      "source": [
        "print_analogy()"
      ]
    }
  ],
  "metadata": {
    "colab": {
      "name": "P1.2_Word_embedding.ipynb",
      "provenance": [],
      "gpuType": "T4",
      "include_colab_link": true
    },
    "kernelspec": {
      "display_name": "Python 3",
      "name": "python3"
    },
    "language_info": {
      "codemirror_mode": {
        "name": "ipython",
        "version": 3
      },
      "file_extension": ".py",
      "mimetype": "text/x-python",
      "name": "python",
      "nbconvert_exporter": "python",
      "pygments_lexer": "ipython3",
      "version": "3.12.3"
    },
    "accelerator": "GPU"
  },
  "nbformat": 4,
  "nbformat_minor": 0
}