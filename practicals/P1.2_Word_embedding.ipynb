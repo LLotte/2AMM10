{
  "cells": [
    {
      "cell_type": "markdown",
      "metadata": {
        "id": "view-in-github",
        "colab_type": "text"
      },
      "source": [
        "<a href=\"https://colab.research.google.com/github/LLotte/2AMM10/blob/main/practicals/P1.2_Word_embedding.ipynb\" target=\"_parent\"><img src=\"https://colab.research.google.com/assets/colab-badge.svg\" alt=\"Open In Colab\"/></a>"
      ]
    },
    {
      "cell_type": "code",
      "execution_count": 2,
      "metadata": {
        "id": "lKQAPy-OvhFL"
      },
      "outputs": [],
      "source": [
        "%matplotlib inline"
      ]
    },
    {
      "cell_type": "markdown",
      "metadata": {
        "id": "NPuixz3BvhFO"
      },
      "source": [
        "# Practical Overview\n",
        "\n",
        " In this Practical you will learn :\n",
        "- Basic concepts of word embeddings.\n",
        "- How to extract word embeddings by N-Gram in a toy example.\n",
        "- How to extract word embeddings by CBoW in a toy example.\n",
        "- How to extract word embeddings by CBoW in `Alice in Wonderland`.\n",
        "- How to perform the analogy task.\n",
        "- Reflecting on the conceptual differences between the CBoW and N-Gram model.\n",
        "\n",
        "We recommend running the practicals of this course in Google Colab. Make sure to go to additional connection options (the small arrow at the top right) -> change runtime type -> a GPU runtime to make use of GPU acceleration."
      ]
    },
    {
      "cell_type": "markdown",
      "metadata": {
        "id": "xJ4nnAY4jR4R"
      },
      "source": [
        "\n",
        "# Word Embeddings: Encoding Lexical Semantics\n",
        "\n",
        "\n",
        "Word embeddings are dense vectors of real numbers, one per word in your\n",
        "vocabulary. In NLP, it is almost always the case that your features are\n",
        "words! But how should you represent a word in a computer? You could\n",
        "store its ascii character representation, but that only tells you what\n",
        "the word *is*, it doesn't say much about what it *means* (you might be\n",
        "able to derive its part of speech from its affixes, or properties from\n",
        "its capitalization, but not much). Even more, in what sense could you\n",
        "combine these representations? We often want dense outputs from our\n",
        "neural networks, where the inputs are $|V|$ dimensional, where\n",
        "$V$ is our vocabulary, but often the outputs are only a few\n",
        "dimensional (if we are only predicting a handful of labels, for\n",
        "instance). How do we get from a massive dimensional space to a smaller\n",
        "dimensional space?\n",
        "\n",
        "How about instead of ascii representations, we use a one-hot encoding?\n",
        "That is, we represent the word $w$ by\n",
        "$$\n",
        "\\begin{align}\n",
        "\\overbrace{\\left[ 0, 0, \\dots, 1, \\dots, 0, 0 \\right]}^\\text{|V| elements}\n",
        "\\end{align}\n",
        "$$\n",
        "\n",
        "where the 1 is in a location unique to $w$. Any other word will\n",
        "have a 1 in some other location, and a 0 everywhere else.\n",
        "\n",
        "There is an enormous drawback to this representation, besides just how\n",
        "huge it is. It basically treats all words as independent entities with\n",
        "no relation to each other. What we really want is some notion of\n",
        "*similarity* between words. Why? Let's see an example.\n",
        "\n",
        "Suppose we are building a language model. Suppose we have seen the\n",
        "sentences\n",
        "\n",
        "* The mathematician ran to the store.\n",
        "* The physicist ran to the store.\n",
        "* The mathematician solved the open problem.\n",
        "\n",
        "in our training data. Now suppose we get a new sentence never before\n",
        "seen in our training data:\n",
        "\n",
        "* The physicist solved the open problem.\n",
        "\n",
        "Our language model might do OK on this sentence, but wouldn't it be much\n",
        "better if we could use the following two facts:\n",
        "\n",
        "- We have seen  mathematician and physicist in the same role in a sentence. Somehow they\n",
        "  have a semantic relation.\n",
        "* We have seen mathematician in the same role  in this new unseen sentence\n",
        "  as we are now seeing physicist.\n",
        "\n",
        "and then infer that physicist is actually a good fit in the new unseen\n",
        "sentence? This is what we mean by a notion of similarity: we mean\n",
        "*semantic similarity*, not simply having similar orthographic\n",
        "representations. It is a technique to combat the sparsity of linguistic\n",
        "data, by connecting the dots between what we have seen and what we\n",
        "haven't. This example of course relies on a fundamental linguistic\n",
        "assumption: that words appearing in similar contexts are related to each\n",
        "other semantically. This is called the [distributional\n",
        "hypothesis](https://en.wikipedia.org/wiki/Distributional_semantics).\n"
      ]
    },
    {
      "cell_type": "markdown",
      "metadata": {
        "id": "U3D0sQ05vhFR"
      },
      "source": [
        "# Getting Dense Word Embeddings\n",
        "\n",
        "\n",
        "How can we solve this problem? That is, how could we actually encode\n",
        "semantic similarity in words? Maybe we think up some semantic\n",
        "attributes. For example, we see that both mathematicians and physicists\n",
        "can run, so maybe we give these words a high score for the \"is able to\n",
        "run\" semantic attribute. Think of some other attributes, and imagine\n",
        "what you might score some common words on those attributes.\n",
        "\n",
        "If each attribute is a dimension, then we might give each word a vector,\n",
        "like this:\n",
        "\n",
        "$$\n",
        "\\begin{align}\n",
        "q_\\text{mathematician} = \\left[ \\overbrace{2.3}^\\text{can run},\n",
        "   \\overbrace{9.4}^\\text{likes coffee}, \\overbrace{-5.5}^\\text{majored in Physics}, \\dots \\right]\n",
        " \\end{align}\n",
        "$$\n",
        "\n",
        "$$\n",
        "\\begin{align}\n",
        "q_\\text{physicist} = \\left[ \\overbrace{2.5}^\\text{can run},\n",
        "   \\overbrace{9.1}^\\text{likes coffee}, \\overbrace{6.4}^\\text{majored in Physics}, \\dots \\right]\n",
        "\\end{align}\n",
        "$$\n",
        "\n",
        "Then we can get a measure of similarity between these words by doing:\n",
        "\n",
        "$$\n",
        "\\begin{align}\n",
        "\\text{Similarity}(\\text{physicist}, \\text{mathematician}) = q_\\text{physicist} \\cdot q_\\text{mathematician}\n",
        "\\end{align}\n",
        "$$\n",
        "\n",
        "\n",
        "Although it is more common to normalize by the lengths:\n",
        "\n",
        "\\begin{align}\\text{Similarity}(\\text{physicist}, \\text{mathematician}) = \\frac{q_\\text{physicist} \\cdot q_\\text{mathematician}}\n",
        "   {\\| q_\\text{physicist} \\| \\| q_\\text{mathematician} \\|} = \\cos (\\phi)\\end{align}\n",
        "\n",
        "Where $\\phi$ is the angle between the two vectors. That way,\n",
        "extremely similar words (words whose embeddings point in the same\n",
        "direction) will have similarity 1. Extremely dissimilar words should\n",
        "have similarity -1.\n",
        "\n",
        "\n",
        "\n",
        "You can think of the sparse one-hot vectors from the beginning of this\n",
        "section as a special case of these new vectors we have defined, where\n",
        "each word basically has similarity 0, and we gave each word some unique\n",
        "semantic attribute. These new vectors are *dense*, which is to say their\n",
        "entries are (typically) non-zero.\n",
        "\n",
        "But these new vectors are a big pain: you could think of thousands of\n",
        "different semantic attributes that might be relevant to determining\n",
        "similarity, and how on earth would you set the values of the different\n",
        "attributes? Central to the idea of deep learning is that the neural\n",
        "network learns representations of the features, rather than requiring\n",
        "the programmer to design them herself. So why not just let the word\n",
        "embeddings be parameters in our model, and then be updated during\n",
        "training? This is exactly what we will do. We will have some *latent\n",
        "semantic attributes* that the network can, in principle, learn. Note\n",
        "that the word embeddings will probably not be interpretable. That is,\n",
        "although with our hand-crafted vectors above we can see that\n",
        "mathematicians and physicists are similar in that they both like coffee,\n",
        "if we allow a neural network to learn the embeddings and see that both\n",
        "mathematicians and physicists have a large value in the second\n",
        "dimension, it is not clear what that means. They are similar in some\n",
        "latent semantic dimension, but this probably has no interpretation to\n",
        "us.\n",
        "\n",
        "\n",
        "In summary, **word embeddings are a representation of the *semantics* of\n",
        "a word, efficiently encoding semantic information that might be relevant\n",
        "to the task at hand**. You can embed other things too: part of speech\n",
        "tags, parse trees, anything! The idea of feature embeddings is central\n",
        "to the field.\n"
      ]
    },
    {
      "cell_type": "markdown",
      "metadata": {
        "id": "o3jDVLjXvhFR"
      },
      "source": [
        "# Word Embeddings in Pytorch\n",
        "\n",
        "\n",
        "Before we get to a worked example and an exercise, a few quick notes\n",
        "about how to use embeddings in Pytorch and in deep learning programming\n",
        "in general. Similar to how we defined a unique index for each word when\n",
        "making one-hot vectors, we also need to define an index for each word\n",
        "when using embeddings. These will be keys into a lookup table. That is,\n",
        "embeddings are stored as a $|V| \\times D$ matrix, where $D$\n",
        "is the dimensionality of the embeddings, such that the word assigned\n",
        "index $i$ has its embedding stored in the $i$'th row of the\n",
        "matrix. In all of code, the mapping from words to indices is a\n",
        "dictionary named word\\_to\\_ix.\n",
        "\n",
        "The module that allows you to use embeddings is torch.nn.Embedding,\n",
        "which takes two arguments: the vocabulary size, and the dimensionality\n",
        "of the embeddings.\n",
        "\n",
        "To index into this table, you must use torch.LongTensor (since the\n",
        "indices are integers, not floats).\n",
        "\n"
      ]
    },
    {
      "cell_type": "code",
      "execution_count": 3,
      "metadata": {
        "id": "SN-aYyHOjR4S",
        "colab": {
          "base_uri": "https://localhost:8080/"
        },
        "outputId": "92267f48-6aec-4b0d-a105-261208aa0afb"
      },
      "outputs": [
        {
          "output_type": "execute_result",
          "data": {
            "text/plain": [
              "<torch._C.Generator at 0x7963b6473930>"
            ]
          },
          "metadata": {},
          "execution_count": 3
        }
      ],
      "source": [
        "# The first part of this practical is based on the tutorial by Robert Guthrie, which can be found here:\n",
        "# https://pytorch.org/tutorials/beginner/nlp/word_embeddings_tutorial.html\n",
        "\n",
        "import torch\n",
        "import torch.nn as nn\n",
        "import torch.nn.functional as F\n",
        "import torch.optim as optim\n",
        "import numpy as np\n",
        "torch.manual_seed(1)"
      ]
    },
    {
      "cell_type": "code",
      "execution_count": 4,
      "metadata": {
        "id": "Ki4s4m9IjR4T",
        "colab": {
          "base_uri": "https://localhost:8080/"
        },
        "outputId": "cad0af77-5b98-4db6-c377-01ac5c39bb9b"
      },
      "outputs": [
        {
          "output_type": "stream",
          "name": "stdout",
          "text": [
            "tensor([[ 0.6614,  0.2669,  0.0617,  0.6213, -0.4519]],\n",
            "       grad_fn=<EmbeddingBackward0>)\n"
          ]
        }
      ],
      "source": [
        "word_to_ix = {\"hello\": 0, \"world\": 1}\n",
        "embeds = nn.Embedding(2, 5)  # 2 words in vocab, 5 dimensional embeddings\n",
        "lookup_tensor = torch.tensor([word_to_ix[\"hello\"]], dtype=torch.long)\n",
        "hello_embed = embeds(lookup_tensor)\n",
        "print(hello_embed)"
      ]
    },
    {
      "cell_type": "markdown",
      "metadata": {
        "id": "uzIyUMPKjR4U"
      },
      "source": [
        "# Getting started:  N-Gram Language Modeling in a Toy example\n",
        "\n",
        "\n",
        "Recall that in an n-gram language model, given a sequence of words\n",
        "$w$, we want to compute\n",
        "\n",
        "\\begin{align}P(w_i | w_{i-1}, w_{i-2}, \\dots, w_{i-n+1} )\\end{align}\n",
        "\n",
        "Where $w_i$ is the ith word of the sequence.\n",
        "\n",
        "In this example, we will compute the loss function on some training\n",
        "examples and update the parameters with backpropagation.\n",
        "\n",
        "\n"
      ]
    },
    {
      "cell_type": "markdown",
      "metadata": {
        "id": "CVb-52jQvhFT"
      },
      "source": [
        "##  Data Preprocessing\n",
        "\n",
        "Before we can use the data in our model, we should build a list of tuples.  Each tuple is `([ word_i-2, word_i-1 ], target word)`, we also build dictionaries to map from words to indices, i.e. word_to_ix, and map from indices to words, i.e. ix_to_word,"
      ]
    },
    {
      "cell_type": "code",
      "execution_count": 5,
      "metadata": {
        "colab": {
          "base_uri": "https://localhost:8080/"
        },
        "id": "kjYsONYHvhFT",
        "outputId": "efc72e09-5746-48a2-8ab6-c1e6af888a33"
      },
      "outputs": [
        {
          "output_type": "stream",
          "name": "stdout",
          "text": [
            "[(['When', 'forty'], 'winters'), (['forty', 'winters'], 'shall'), (['winters', 'shall'], 'besiege')]\n"
          ]
        }
      ],
      "source": [
        "CONTEXT_SIZE = 2   # a 2-gram language model\n",
        "\n",
        "# We will use Shakespeare Sonnet 2\n",
        "test_sentence = \"\"\"When forty winters shall besiege thy brow,\n",
        "And dig deep trenches in thy beauty's field,\n",
        "Thy youth's proud livery so gazed on now,\n",
        "Will be a totter'd weed of small worth held:\n",
        "Then being asked, where all thy beauty lies,\n",
        "Where all the treasure of thy lusty days;\n",
        "To say, within thine own deep sunken eyes,\n",
        "Were an all-eating shame, and thriftless praise.\n",
        "How much more praise deserv'd thy beauty's use,\n",
        "If thou couldst answer 'This fair child of mine\n",
        "Shall sum my count, and make my old excuse,'\n",
        "Proving his beauty by succession thine!\n",
        "This were to be new made when thou art old,\n",
        "And see thy blood warm when thou feel'st it cold.\"\"\".split()\n",
        "# we should tokenize the input, but we will ignore that for now\n",
        "# build a list of tuples.  Each tuple is ([ word_i-2, word_i-1 ], target word)\n",
        "trigrams = [([test_sentence[i], test_sentence[i + 1]], test_sentence[i + 2])\n",
        "            for i in range(len(test_sentence) - 2)]\n",
        "# print the first 3, just so you can see what they look like\n",
        "print(trigrams[:3])\n",
        "\n",
        "\n",
        "vocab = set(test_sentence)\n",
        "word_to_ix = {word: i for i, word in enumerate(vocab)}\n",
        "ix_to_word = {ix:word for ix, word in enumerate(vocab)}\n"
      ]
    },
    {
      "cell_type": "markdown",
      "metadata": {
        "id": "07xrZ8zbvhFU"
      },
      "source": [
        "## Create N-Gram model\n",
        "We create N-Gram language model, and set the word embedding size to be 100 (or other by your preference)"
      ]
    },
    {
      "cell_type": "code",
      "execution_count": 6,
      "metadata": {
        "id": "cAWWomBFjR4V",
        "scrolled": true,
        "colab": {
          "base_uri": "https://localhost:8080/"
        },
        "outputId": "21bcb389-62a6-4dd6-d85c-3d434e2f9115"
      },
      "outputs": [
        {
          "output_type": "stream",
          "name": "stdout",
          "text": [
            "Epoch: 0 \tLoss: 4.58985029701638\n",
            "Epoch: 1 \tLoss: 4.54025847299964\n",
            "Epoch: 2 \tLoss: 4.4911364918261505\n",
            "Epoch: 3 \tLoss: 4.442433175787461\n",
            "Epoch: 4 \tLoss: 4.39402251749967\n",
            "Epoch: 5 \tLoss: 4.345909456236172\n",
            "Epoch: 6 \tLoss: 4.297989501362354\n",
            "Epoch: 7 \tLoss: 4.250230346105795\n",
            "Epoch: 8 \tLoss: 4.202569284270295\n",
            "Epoch: 9 \tLoss: 4.155198877891608\n",
            "Epoch: 10 \tLoss: 4.10783081983043\n",
            "Epoch: 11 \tLoss: 4.060476231364023\n",
            "Epoch: 12 \tLoss: 4.01309220980754\n",
            "Epoch: 13 \tLoss: 3.9654796566583412\n",
            "Epoch: 14 \tLoss: 3.9177508333088022\n",
            "Epoch: 15 \tLoss: 3.869842588374045\n",
            "Epoch: 16 \tLoss: 3.8216105224811927\n",
            "Epoch: 17 \tLoss: 3.773060638292701\n",
            "Epoch: 18 \tLoss: 3.724276120683788\n",
            "Epoch: 19 \tLoss: 3.6752109464290923\n",
            "Epoch: 20 \tLoss: 3.625708335268814\n",
            "Epoch: 21 \tLoss: 3.5757257157722404\n",
            "Epoch: 22 \tLoss: 3.5252752367374116\n",
            "Epoch: 23 \tLoss: 3.4743687631809608\n",
            "Epoch: 24 \tLoss: 3.423217170006406\n",
            "Epoch: 25 \tLoss: 3.371516570580744\n",
            "Epoch: 26 \tLoss: 3.319329198482817\n",
            "Epoch: 27 \tLoss: 3.266555612066151\n",
            "Epoch: 28 \tLoss: 3.213359763137007\n",
            "Epoch: 29 \tLoss: 3.159833457617633\n",
            "Epoch: 30 \tLoss: 3.1058277081599277\n",
            "Epoch: 31 \tLoss: 3.0513243026438013\n",
            "Epoch: 32 \tLoss: 2.996508546635113\n",
            "Epoch: 33 \tLoss: 2.941284126940027\n",
            "Epoch: 34 \tLoss: 2.885789404400682\n",
            "Epoch: 35 \tLoss: 2.8299159386516672\n",
            "Epoch: 36 \tLoss: 2.7738248035971043\n",
            "Epoch: 37 \tLoss: 2.717463694842516\n",
            "Epoch: 38 \tLoss: 2.6608983236076558\n",
            "Epoch: 39 \tLoss: 2.604116907161949\n",
            "Epoch: 40 \tLoss: 2.547426872021329\n",
            "Epoch: 41 \tLoss: 2.4904056534302974\n",
            "Epoch: 42 \tLoss: 2.4335556373132015\n",
            "Epoch: 43 \tLoss: 2.376549521906186\n",
            "Epoch: 44 \tLoss: 2.3195561102006286\n",
            "Epoch: 45 \tLoss: 2.262713678115237\n",
            "Epoch: 46 \tLoss: 2.206033605126153\n",
            "Epoch: 47 \tLoss: 2.149331232879014\n",
            "Epoch: 48 \tLoss: 2.0930443387643427\n",
            "Epoch: 49 \tLoss: 2.0369694470304305\n",
            "Epoch: 50 \tLoss: 1.9810940174929863\n",
            "Epoch: 51 \tLoss: 1.9255636213100062\n",
            "Epoch: 52 \tLoss: 1.8703817224080583\n",
            "Epoch: 53 \tLoss: 1.8156560936332804\n",
            "Epoch: 54 \tLoss: 1.7615543478621847\n",
            "Epoch: 55 \tLoss: 1.7077773208111788\n",
            "Epoch: 56 \tLoss: 1.654684688928908\n",
            "Epoch: 57 \tLoss: 1.6023636698986576\n",
            "Epoch: 58 \tLoss: 1.5505406608623742\n",
            "Epoch: 59 \tLoss: 1.499570081719255\n",
            "Epoch: 60 \tLoss: 1.4493486244330365\n",
            "Epoch: 61 \tLoss: 1.400020295276051\n",
            "Epoch: 62 \tLoss: 1.3516364404849246\n",
            "Epoch: 63 \tLoss: 1.304110337807014\n",
            "Epoch: 64 \tLoss: 1.2577922727945632\n",
            "Epoch: 65 \tLoss: 1.2123752371531673\n",
            "Epoch: 66 \tLoss: 1.1680776685212566\n",
            "Epoch: 67 \tLoss: 1.125020636064289\n",
            "Epoch: 68 \tLoss: 1.0830217737012204\n",
            "Epoch: 69 \tLoss: 1.0422981024711533\n",
            "Epoch: 70 \tLoss: 1.0028357809755655\n",
            "Epoch: 71 \tLoss: 0.9645103515513176\n",
            "Epoch: 72 \tLoss: 0.9274924758788758\n",
            "Epoch: 73 \tLoss: 0.8916940759636659\n",
            "Epoch: 74 \tLoss: 0.8572347449649752\n",
            "Epoch: 75 \tLoss: 0.8239409363111564\n",
            "Epoch: 76 \tLoss: 0.7918855754938801\n",
            "Epoch: 77 \tLoss: 0.7610768367890763\n",
            "Epoch: 78 \tLoss: 0.7314651732423664\n",
            "Epoch: 79 \tLoss: 0.7030762842798655\n",
            "Epoch: 80 \tLoss: 0.6757969874723823\n",
            "Epoch: 81 \tLoss: 0.6497485443158487\n",
            "Epoch: 82 \tLoss: 0.6247719339037363\n",
            "Epoch: 83 \tLoss: 0.600936282821725\n",
            "Epoch: 84 \tLoss: 0.5781163478978967\n",
            "Epoch: 85 \tLoss: 0.5563528750718167\n",
            "Epoch: 86 \tLoss: 0.5355316653386154\n",
            "Epoch: 87 \tLoss: 0.5157507988995156\n",
            "Epoch: 88 \tLoss: 0.49688732182293865\n",
            "Epoch: 89 \tLoss: 0.47888897286843407\n",
            "Epoch: 90 \tLoss: 0.46178412978100564\n",
            "Epoch: 91 \tLoss: 0.4455096058349694\n",
            "Epoch: 92 \tLoss: 0.42999531539668023\n",
            "Epoch: 93 \tLoss: 0.41523377785244875\n",
            "Epoch: 94 \tLoss: 0.4012195407618991\n",
            "Epoch: 95 \tLoss: 0.3878996164859396\n",
            "Epoch: 96 \tLoss: 0.37519576281836603\n",
            "Epoch: 97 \tLoss: 0.3631424872880488\n",
            "Epoch: 98 \tLoss: 0.35168268409582365\n",
            "Epoch: 99 \tLoss: 0.3407708000622492\n"
          ]
        }
      ],
      "source": [
        "EMBEDDING_DIM = 100\n",
        "\n",
        "class NGramLanguageModeler(nn.Module):\n",
        "\n",
        "    def __init__(self, vocab_size, embedding_dim, context_size):\n",
        "        super().__init__()\n",
        "        self.embeddings = nn.Embedding(vocab_size, embedding_dim)\n",
        "        self.linear1 = nn.Linear(context_size * embedding_dim, 128)\n",
        "        self.linear2 = nn.Linear(128, vocab_size)\n",
        "\n",
        "    def forward(self, inputs):\n",
        "        embeds = self.embeddings(inputs).view((1, -1))\n",
        "        out = F.relu(self.linear1(embeds))\n",
        "        out = self.linear2(out)\n",
        "        log_probs = F.log_softmax(out, dim=1)\n",
        "        return log_probs\n",
        "\n",
        "\n",
        "\n",
        "loss_function = nn.NLLLoss()\n",
        "model = NGramLanguageModeler(len(vocab), EMBEDDING_DIM, CONTEXT_SIZE)\n",
        "optimizer = optim.SGD(model.parameters(), lr=0.001)\n",
        "\n",
        "for epoch in range(100):\n",
        "    total_loss = 0\n",
        "    for context, target in trigrams:\n",
        "\n",
        "        # Step 1. Prepare the inputs to be passed to the model (i.e, turn the words\n",
        "        # into integer indices and wrap them in tensors)\n",
        "        context_idxs = torch.tensor([word_to_ix[w] for w in context], dtype=torch.long)\n",
        "\n",
        "        # Step 2. Recall that torch *accumulates* gradients. Before passing in a\n",
        "        # new instance, you need to zero out the gradients from the old\n",
        "        # instance\n",
        "        model.zero_grad()\n",
        "\n",
        "        # Step 3. Run the forward pass, getting log probabilities over next\n",
        "        # words\n",
        "        log_probs = model(context_idxs)\n",
        "\n",
        "        # Step 4. Compute your loss function. (Again, Torch wants the target\n",
        "        # word wrapped in a tensor)\n",
        "        loss = loss_function(log_probs, torch.tensor([word_to_ix[target]], dtype=torch.long))\n",
        "\n",
        "        # Step 5. Do the backward pass and update the gradient\n",
        "        loss.backward()\n",
        "        optimizer.step()\n",
        "\n",
        "        # Get the Python number from a 1-element Tensor by calling tensor.item()\n",
        "        total_loss += loss.item()\n",
        "    average_loss= total_loss/len(trigrams)\n",
        "    print('Epoch:', epoch, '\\tLoss:', average_loss)  # The loss decreased every iteration over the training data!"
      ]
    },
    {
      "cell_type": "markdown",
      "metadata": {
        "id": "HLgksVn9vhFU"
      },
      "source": [
        "##  Check the results"
      ]
    },
    {
      "cell_type": "markdown",
      "metadata": {
        "id": "uwANR8DbvhFV"
      },
      "source": [
        "We can inspect some of the word embedding values in a pandas DataFrame:"
      ]
    },
    {
      "cell_type": "code",
      "execution_count": 7,
      "metadata": {
        "scrolled": true,
        "colab": {
          "base_uri": "https://localhost:8080/",
          "height": 255
        },
        "id": "_IhcjLcKvhFV",
        "outputId": "8f4c6d00-9b97-4fe8-912f-1a9618fb3936"
      },
      "outputs": [
        {
          "output_type": "execute_result",
          "data": {
            "text/plain": [
              "            0         1         2         3         4         5         6   \\\n",
              "by    0.866194  0.247402 -0.662684  0.807330  0.438983  1.173805  1.772579   \n",
              "deep  0.156999  1.263393  1.329182 -0.494178 -1.981391  1.801467  0.107207   \n",
              "an    0.219882 -0.574604  1.459614  1.773301 -2.019089  0.425148  0.575132   \n",
              "mine  0.144098  0.205589  1.058574  0.126176  1.407938  0.485134 -0.705287   \n",
              "If   -0.376908 -2.413502 -1.276928 -0.058757 -1.231852 -1.065182 -0.389273   \n",
              "\n",
              "            7         8         9   ...        90        91        92  \\\n",
              "by   -0.095796  0.060880 -0.618962  ... -1.481540 -1.134184 -0.102004   \n",
              "deep  0.344685 -0.646611 -0.289946  ... -1.108606 -0.701169  0.235996   \n",
              "an   -1.800491  1.248151  1.274822  ...  0.247652 -0.390917 -0.202474   \n",
              "mine -0.829646  0.099074  0.194655  ...  0.346023 -0.552454 -0.959832   \n",
              "If    0.379481 -0.209081  0.696271  ...  0.292952 -0.565245  0.726470   \n",
              "\n",
              "            93        94        95        96        97        98        99  \n",
              "by    0.343265 -1.071736 -0.874875  0.207523  0.305093  0.535568 -0.430159  \n",
              "deep  1.918761  1.841740  1.327339 -0.071667  0.343247 -0.657524  1.558499  \n",
              "an   -0.836553 -1.552954 -0.056410  1.197191 -2.287905 -1.015187 -0.886730  \n",
              "mine  0.279137 -0.682996 -0.544931  1.155108 -0.399738  0.969764  1.546982  \n",
              "If   -0.545663 -0.800187  0.017763 -0.151851  0.522533 -0.215082 -1.253481  \n",
              "\n",
              "[5 rows x 100 columns]"
            ],
            "text/html": [
              "\n",
              "  <div id=\"df-f0968f5f-323c-4424-8980-76a9a8254bbb\" class=\"colab-df-container\">\n",
              "    <div>\n",
              "<style scoped>\n",
              "    .dataframe tbody tr th:only-of-type {\n",
              "        vertical-align: middle;\n",
              "    }\n",
              "\n",
              "    .dataframe tbody tr th {\n",
              "        vertical-align: top;\n",
              "    }\n",
              "\n",
              "    .dataframe thead th {\n",
              "        text-align: right;\n",
              "    }\n",
              "</style>\n",
              "<table border=\"1\" class=\"dataframe\">\n",
              "  <thead>\n",
              "    <tr style=\"text-align: right;\">\n",
              "      <th></th>\n",
              "      <th>0</th>\n",
              "      <th>1</th>\n",
              "      <th>2</th>\n",
              "      <th>3</th>\n",
              "      <th>4</th>\n",
              "      <th>5</th>\n",
              "      <th>6</th>\n",
              "      <th>7</th>\n",
              "      <th>8</th>\n",
              "      <th>9</th>\n",
              "      <th>...</th>\n",
              "      <th>90</th>\n",
              "      <th>91</th>\n",
              "      <th>92</th>\n",
              "      <th>93</th>\n",
              "      <th>94</th>\n",
              "      <th>95</th>\n",
              "      <th>96</th>\n",
              "      <th>97</th>\n",
              "      <th>98</th>\n",
              "      <th>99</th>\n",
              "    </tr>\n",
              "  </thead>\n",
              "  <tbody>\n",
              "    <tr>\n",
              "      <th>by</th>\n",
              "      <td>0.866194</td>\n",
              "      <td>0.247402</td>\n",
              "      <td>-0.662684</td>\n",
              "      <td>0.807330</td>\n",
              "      <td>0.438983</td>\n",
              "      <td>1.173805</td>\n",
              "      <td>1.772579</td>\n",
              "      <td>-0.095796</td>\n",
              "      <td>0.060880</td>\n",
              "      <td>-0.618962</td>\n",
              "      <td>...</td>\n",
              "      <td>-1.481540</td>\n",
              "      <td>-1.134184</td>\n",
              "      <td>-0.102004</td>\n",
              "      <td>0.343265</td>\n",
              "      <td>-1.071736</td>\n",
              "      <td>-0.874875</td>\n",
              "      <td>0.207523</td>\n",
              "      <td>0.305093</td>\n",
              "      <td>0.535568</td>\n",
              "      <td>-0.430159</td>\n",
              "    </tr>\n",
              "    <tr>\n",
              "      <th>deep</th>\n",
              "      <td>0.156999</td>\n",
              "      <td>1.263393</td>\n",
              "      <td>1.329182</td>\n",
              "      <td>-0.494178</td>\n",
              "      <td>-1.981391</td>\n",
              "      <td>1.801467</td>\n",
              "      <td>0.107207</td>\n",
              "      <td>0.344685</td>\n",
              "      <td>-0.646611</td>\n",
              "      <td>-0.289946</td>\n",
              "      <td>...</td>\n",
              "      <td>-1.108606</td>\n",
              "      <td>-0.701169</td>\n",
              "      <td>0.235996</td>\n",
              "      <td>1.918761</td>\n",
              "      <td>1.841740</td>\n",
              "      <td>1.327339</td>\n",
              "      <td>-0.071667</td>\n",
              "      <td>0.343247</td>\n",
              "      <td>-0.657524</td>\n",
              "      <td>1.558499</td>\n",
              "    </tr>\n",
              "    <tr>\n",
              "      <th>an</th>\n",
              "      <td>0.219882</td>\n",
              "      <td>-0.574604</td>\n",
              "      <td>1.459614</td>\n",
              "      <td>1.773301</td>\n",
              "      <td>-2.019089</td>\n",
              "      <td>0.425148</td>\n",
              "      <td>0.575132</td>\n",
              "      <td>-1.800491</td>\n",
              "      <td>1.248151</td>\n",
              "      <td>1.274822</td>\n",
              "      <td>...</td>\n",
              "      <td>0.247652</td>\n",
              "      <td>-0.390917</td>\n",
              "      <td>-0.202474</td>\n",
              "      <td>-0.836553</td>\n",
              "      <td>-1.552954</td>\n",
              "      <td>-0.056410</td>\n",
              "      <td>1.197191</td>\n",
              "      <td>-2.287905</td>\n",
              "      <td>-1.015187</td>\n",
              "      <td>-0.886730</td>\n",
              "    </tr>\n",
              "    <tr>\n",
              "      <th>mine</th>\n",
              "      <td>0.144098</td>\n",
              "      <td>0.205589</td>\n",
              "      <td>1.058574</td>\n",
              "      <td>0.126176</td>\n",
              "      <td>1.407938</td>\n",
              "      <td>0.485134</td>\n",
              "      <td>-0.705287</td>\n",
              "      <td>-0.829646</td>\n",
              "      <td>0.099074</td>\n",
              "      <td>0.194655</td>\n",
              "      <td>...</td>\n",
              "      <td>0.346023</td>\n",
              "      <td>-0.552454</td>\n",
              "      <td>-0.959832</td>\n",
              "      <td>0.279137</td>\n",
              "      <td>-0.682996</td>\n",
              "      <td>-0.544931</td>\n",
              "      <td>1.155108</td>\n",
              "      <td>-0.399738</td>\n",
              "      <td>0.969764</td>\n",
              "      <td>1.546982</td>\n",
              "    </tr>\n",
              "    <tr>\n",
              "      <th>If</th>\n",
              "      <td>-0.376908</td>\n",
              "      <td>-2.413502</td>\n",
              "      <td>-1.276928</td>\n",
              "      <td>-0.058757</td>\n",
              "      <td>-1.231852</td>\n",
              "      <td>-1.065182</td>\n",
              "      <td>-0.389273</td>\n",
              "      <td>0.379481</td>\n",
              "      <td>-0.209081</td>\n",
              "      <td>0.696271</td>\n",
              "      <td>...</td>\n",
              "      <td>0.292952</td>\n",
              "      <td>-0.565245</td>\n",
              "      <td>0.726470</td>\n",
              "      <td>-0.545663</td>\n",
              "      <td>-0.800187</td>\n",
              "      <td>0.017763</td>\n",
              "      <td>-0.151851</td>\n",
              "      <td>0.522533</td>\n",
              "      <td>-0.215082</td>\n",
              "      <td>-1.253481</td>\n",
              "    </tr>\n",
              "  </tbody>\n",
              "</table>\n",
              "<p>5 rows × 100 columns</p>\n",
              "</div>\n",
              "    <div class=\"colab-df-buttons\">\n",
              "      \n",
              "  <div class=\"colab-df-container\">\n",
              "    <button class=\"colab-df-convert\" onclick=\"convertToInteractive('df-f0968f5f-323c-4424-8980-76a9a8254bbb')\"\n",
              "            title=\"Convert this dataframe to an interactive table.\"\n",
              "            style=\"display:none;\">\n",
              "      \n",
              "  <svg xmlns=\"http://www.w3.org/2000/svg\" height=\"24px\" viewBox=\"0 -960 960 960\">\n",
              "    <path d=\"M120-120v-720h720v720H120Zm60-500h600v-160H180v160Zm220 220h160v-160H400v160Zm0 220h160v-160H400v160ZM180-400h160v-160H180v160Zm440 0h160v-160H620v160ZM180-180h160v-160H180v160Zm440 0h160v-160H620v160Z\"/>\n",
              "  </svg>\n",
              "    </button>\n",
              "    \n",
              "  <style>\n",
              "    .colab-df-container {\n",
              "      display:flex;\n",
              "      gap: 12px;\n",
              "    }\n",
              "\n",
              "    .colab-df-convert {\n",
              "      background-color: #E8F0FE;\n",
              "      border: none;\n",
              "      border-radius: 50%;\n",
              "      cursor: pointer;\n",
              "      display: none;\n",
              "      fill: #1967D2;\n",
              "      height: 32px;\n",
              "      padding: 0 0 0 0;\n",
              "      width: 32px;\n",
              "    }\n",
              "\n",
              "    .colab-df-convert:hover {\n",
              "      background-color: #E2EBFA;\n",
              "      box-shadow: 0px 1px 2px rgba(60, 64, 67, 0.3), 0px 1px 3px 1px rgba(60, 64, 67, 0.15);\n",
              "      fill: #174EA6;\n",
              "    }\n",
              "\n",
              "    .colab-df-buttons div {\n",
              "      margin-bottom: 4px;\n",
              "    }\n",
              "\n",
              "    [theme=dark] .colab-df-convert {\n",
              "      background-color: #3B4455;\n",
              "      fill: #D2E3FC;\n",
              "    }\n",
              "\n",
              "    [theme=dark] .colab-df-convert:hover {\n",
              "      background-color: #434B5C;\n",
              "      box-shadow: 0px 1px 3px 1px rgba(0, 0, 0, 0.15);\n",
              "      filter: drop-shadow(0px 1px 2px rgba(0, 0, 0, 0.3));\n",
              "      fill: #FFFFFF;\n",
              "    }\n",
              "  </style>\n",
              "\n",
              "    <script>\n",
              "      const buttonEl =\n",
              "        document.querySelector('#df-f0968f5f-323c-4424-8980-76a9a8254bbb button.colab-df-convert');\n",
              "      buttonEl.style.display =\n",
              "        google.colab.kernel.accessAllowed ? 'block' : 'none';\n",
              "\n",
              "      async function convertToInteractive(key) {\n",
              "        const element = document.querySelector('#df-f0968f5f-323c-4424-8980-76a9a8254bbb');\n",
              "        const dataTable =\n",
              "          await google.colab.kernel.invokeFunction('convertToInteractive',\n",
              "                                                    [key], {});\n",
              "        if (!dataTable) return;\n",
              "\n",
              "        const docLinkHtml = 'Like what you see? Visit the ' +\n",
              "          '<a target=\"_blank\" href=https://colab.research.google.com/notebooks/data_table.ipynb>data table notebook</a>'\n",
              "          + ' to learn more about interactive tables.';\n",
              "        element.innerHTML = '';\n",
              "        dataTable['output_type'] = 'display_data';\n",
              "        await google.colab.output.renderOutput(dataTable, element);\n",
              "        const docLink = document.createElement('div');\n",
              "        docLink.innerHTML = docLinkHtml;\n",
              "        element.appendChild(docLink);\n",
              "      }\n",
              "    </script>\n",
              "  </div>\n",
              "  \n",
              "    </div>\n",
              "  </div>\n",
              "  "
            ]
          },
          "metadata": {},
          "execution_count": 7
        }
      ],
      "source": [
        "import pandas as pd\n",
        "embeddings = model.embeddings(torch.Tensor([list(range(0,len(vocab)))]).long())\n",
        "embeddings = embeddings.view(-1,100)\n",
        "pd.DataFrame(embeddings.tolist(), index=list(ix_to_word.values())[0:]).head()"
      ]
    },
    {
      "cell_type": "markdown",
      "metadata": {
        "id": "2mJnXU7dvhFV"
      },
      "source": [
        "We can also plot the embeddings with TSNE to visualize the similarity"
      ]
    },
    {
      "cell_type": "code",
      "execution_count": 8,
      "metadata": {
        "id": "UrpxWjSrvhFV"
      },
      "outputs": [],
      "source": [
        "labels=[]\n",
        "for i in range(len(ix_to_word)):\n",
        "    labels.append(ix_to_word[i])"
      ]
    },
    {
      "cell_type": "code",
      "execution_count": 9,
      "metadata": {
        "scrolled": true,
        "colab": {
          "base_uri": "https://localhost:8080/",
          "height": 830
        },
        "id": "euZOIgSOvhFV",
        "outputId": "3fc3f263-3fd9-4758-abde-c1f0803b0eac"
      },
      "outputs": [
        {
          "output_type": "display_data",
          "data": {
            "text/plain": [
              "<Figure size 1000x1000 with 1 Axes>"
            ],
            "image/png": "[encoded data removed]"
          },
          "metadata": {}
        }
      ],
      "source": [
        "from matplotlib import pylab\n",
        "from sklearn.manifold import TSNE\n",
        "\n",
        "tsne = TSNE(n_components=2)\n",
        "two_d_embeddings = tsne.fit_transform(embeddings.detach().numpy())\n",
        "\n",
        "def plot(embeddings, labels):\n",
        "      assert embeddings.shape[0] >= len(labels), 'More labels than embeddings'\n",
        "      pylab.figure(figsize=(10,10))  # in inches\n",
        "      for i, label in enumerate(labels):\n",
        "        x, y = embeddings[i,:]\n",
        "        pylab.scatter(x, y)\n",
        "        pylab.annotate(label, xy=(x, y), xytext=(5, 2), textcoords='offset points',\n",
        "                       ha='right', va='bottom')\n",
        "      pylab.show()\n",
        "\n",
        "\n",
        "plot(two_d_embeddings, labels)"
      ]
    },
    {
      "cell_type": "code",
      "execution_count": 10,
      "metadata": {
        "colab": {
          "base_uri": "https://localhost:8080/"
        },
        "id": "VpA__2k0vhFW",
        "outputId": "9dad0895-a900-432d-ff03-3910601b3153"
      },
      "outputs": [
        {
          "output_type": "stream",
          "name": "stdout",
          "text": [
            "Raw text: When forty winters shall besiege thy brow, And dig deep trenches in thy beauty's field, Thy youth's proud livery so gazed on now, Will be a totter'd weed of small worth held: Then being asked, where all thy beauty lies, Where all the treasure of thy lusty days; To say, within thine own deep sunken eyes, Were an all-eating shame, and thriftless praise. How much more praise deserv'd thy beauty's use, If thou couldst answer 'This fair child of mine Shall sum my count, and make my old excuse,' Proving his beauty by succession thine! This were to be new made when thou art old, And see thy blood warm when thou feel'st it cold.\n",
            "\n",
            "Context: ['When', 'forty']\n",
            "\n",
            "Prediction: winters\n"
          ]
        }
      ],
      "source": [
        "context = ['When','forty']\n",
        "\n",
        "a = model(torch.tensor([word_to_ix[w] for w in context]))\n",
        "\n",
        "#Print result\n",
        "print(f'Raw text: {\" \".join(test_sentence)}\\n')\n",
        "print(f'Context: {context}\\n')\n",
        "print(f'Prediction: {ix_to_word[torch.argmax(a[0]).item()]}')"
      ]
    },
    {
      "cell_type": "markdown",
      "metadata": {
        "id": "TuCM5LSqjR4V"
      },
      "source": [
        "# Practical part  1: Computing Word Embeddings -- Continuous Bag-of-Words in a Toy example\n",
        "\n",
        "\n",
        "The Continuous Bag-of-Words model (CBOW) is frequently used in NLP deep\n",
        "learning. It is a model that tries to predict words given the context of\n",
        "a few words before and a few words after the target word. This is\n",
        "distinct from typical practices in language modeling, since CBOW is not sequential and does\n",
        "not have to be probabilistic. Typcially, CBOW is used to quickly train\n",
        "word embeddings, and these embeddings are used to initialize the\n",
        "embeddings of some more complicated model. Usually, this is referred to\n",
        "as *pretraining embeddings*. It almost always helps performance a couple\n",
        "of percent.\n",
        "\n",
        "The CBOW model is as follows. Given a target word $w_i$ and an\n",
        "$N$ context window on each side, $w_{i-1}, \\dots, w_{i-N}$\n",
        "and $w_{i+1}, \\dots, w_{i+N}$, referring to all context words\n",
        "collectively as $C$, CBOW tries to minimize\n",
        "\n",
        "\\begin{align}-\\log p(w_i | C) = -\\log \\text{Softmax}(A(\\sum_{w \\in C} q_w) + b)\\end{align}\n",
        "\n",
        "where $q_w$ is the embedding for word $w$.\n",
        "\n",
        "Implement this model in Pytorch by filling in the class below. Some\n",
        "tips:\n",
        "\n",
        "* Think about which parameters you need to define.\n",
        "* Make sure you know what shape each operation expects. Use .view() if you need to\n",
        "  reshape.\n",
        "\n"
      ]
    },
    {
      "cell_type": "markdown",
      "metadata": {
        "id": "UynjOXjdvhFW"
      },
      "source": [
        "##  Data Preprocessing\n",
        "\n",
        "The CBOW model architecture tries to predict the current target word (the center word) based on the source context words (surrounding words). Considering a simple sentence, `the quick brown fox jumps over the lazy dog`, this can be pairs of (context_window, target_word) where if we consider a context size 2 (2 words to the left, 2 to the right),  we have examples like `([the, quick, fox, jumps], brown)` and so on. Thus the model tries to predict the target_word based on the context_window words.\n",
        "\n",
        "\n",
        "Therefore should build a list of tuples.  Each tuple is `([ word_i-2, word_i-1,word_i+1, word_i+2 ], target word)`, we also build dictionaries to map from words to indices, i.e. word_to_ix, and map from indices to words, i.e. ix_to_word,"
      ]
    },
    {
      "cell_type": "code",
      "execution_count": 11,
      "metadata": {
        "colab": {
          "base_uri": "https://localhost:8080/"
        },
        "id": "aF_Dt4NWvhFW",
        "outputId": "15500b00-8041-41d2-c87e-5fbacc1d4369"
      },
      "outputs": [
        {
          "output_type": "stream",
          "name": "stdout",
          "text": [
            "[(['We', 'are', 'to', 'study'], 'about'), (['are', 'about', 'study', 'the'], 'to'), (['about', 'to', 'the', 'idea'], 'study'), (['to', 'study', 'idea', 'of'], 'the'), (['study', 'the', 'of', 'a'], 'idea')]\n"
          ]
        }
      ],
      "source": [
        "import torch\n",
        "import torch.nn as nn\n",
        "\n",
        "\n",
        "CONTEXT_SIZE = 2  # 2 words to the left, 2 to the right\n",
        "EMBEDDING_DIM = 100\n",
        "\n",
        "raw_text = \"\"\"We are about to study the idea of a computational process.\n",
        "Computational processes are abstract beings that inhabit computers.\n",
        "As they evolve, processes manipulate other abstract things called data.\n",
        "The evolution of a process is directed by a pattern of rules\n",
        "called a program. People create programs to direct processes. In effect,\n",
        "we conjure the spirits of the computer with our spells.\"\"\".split()\n",
        "\n",
        "\n",
        "# By deriving a set from `raw_text`, we deduplicate the array\n",
        "vocab = set(raw_text)\n",
        "vocab_size = len(vocab)\n",
        "\n",
        "word_to_ix = {word:ix for ix, word in enumerate(vocab)}\n",
        "ix_to_word = {ix:word for ix, word in enumerate(vocab)}\n",
        "\n",
        "data = []\n",
        "for i in range(2, len(raw_text) - 2):\n",
        "    context = [raw_text[i - 2], raw_text[i - 1],\n",
        "               raw_text[i + 1], raw_text[i + 2]]\n",
        "    target = raw_text[i]\n",
        "    data.append((context, target))\n",
        "\n",
        "print(data[:5])"
      ]
    },
    {
      "cell_type": "markdown",
      "metadata": {
        "id": "3n076D6YvhFW"
      },
      "source": [
        "\n",
        "## Create CBoW Model\n",
        "Following is an image to illustrate the model architecture. We set the word embedding size to be 100 (or other by your preference)."
      ]
    },
    {
      "cell_type": "markdown",
      "metadata": {
        "id": "T6z67IaNvhFW"
      },
      "source": [
        "![avatar](https://miro.medium.com/max/328/1*bkrBASpteKfCaxZDEEeN6g.png)"
      ]
    },
    {
      "cell_type": "code",
      "execution_count": 12,
      "metadata": {
        "id": "c83HvD2hjR4W",
        "scrolled": true,
        "colab": {
          "base_uri": "https://localhost:8080/"
        },
        "outputId": "851014a4-1e17-4c4a-90a5-49b6df7c7022"
      },
      "outputs": [
        {
          "output_type": "stream",
          "name": "stdout",
          "text": [
            "Epoch: 0 \tLoss: 4.7675583835305835\n",
            "Epoch: 1 \tLoss: 4.316104597058789\n",
            "Epoch: 2 \tLoss: 3.8973677548868904\n",
            "Epoch: 3 \tLoss: 3.5110546617672362\n",
            "Epoch: 4 \tLoss: 3.157654141557628\n",
            "Epoch: 5 \tLoss: 2.8370443284511566\n",
            "Epoch: 6 \tLoss: 2.5478987447146713\n",
            "Epoch: 7 \tLoss: 2.2878776161835113\n",
            "Epoch: 8 \tLoss: 2.054266780614853\n",
            "Epoch: 9 \tLoss: 1.8445193299959446\n",
            "Epoch: 10 \tLoss: 1.656463544944237\n",
            "Epoch: 11 \tLoss: 1.48827684799145\n",
            "Epoch: 12 \tLoss: 1.3383720188305295\n",
            "Epoch: 13 \tLoss: 1.2052783868436157\n",
            "Epoch: 14 \tLoss: 1.0875601624620372\n",
            "Epoch: 15 \tLoss: 0.983784629096245\n",
            "Epoch: 16 \tLoss: 0.892528983796465\n",
            "Epoch: 17 \tLoss: 0.8124089408023604\n",
            "Epoch: 18 \tLoss: 0.742110333566008\n",
            "Epoch: 19 \tLoss: 0.6804144220619366\n",
            "Epoch: 20 \tLoss: 0.6262124006090493\n",
            "Epoch: 21 \tLoss: 0.5785107204112513\n",
            "Epoch: 22 \tLoss: 0.5364300755077395\n",
            "Epoch: 23 \tLoss: 0.49920014471843327\n",
            "Epoch: 24 \tLoss: 0.46615251898765564\n",
            "Epoch: 25 \tLoss: 0.43671172112226486\n",
            "Epoch: 26 \tLoss: 0.4103853851556778\n",
            "Epoch: 27 \tLoss: 0.38675422760947\n",
            "Epoch: 28 \tLoss: 0.36546192819188383\n",
            "Epoch: 29 \tLoss: 0.3462059449019103\n",
            "Epoch: 30 \tLoss: 0.328729038480027\n",
            "Epoch: 31 \tLoss: 0.3128122465106948\n",
            "Epoch: 32 \tLoss: 0.29826869198988226\n",
            "Epoch: 33 \tLoss: 0.2849383509621538\n",
            "Epoch: 34 \tLoss: 0.2726835760063139\n",
            "Epoch: 35 \tLoss: 0.26138594887893773\n",
            "Epoch: 36 \tLoss: 0.2509427547197917\n",
            "Epoch: 37 \tLoss: 0.24126500649185018\n",
            "Epoch: 38 \tLoss: 0.23227503844376268\n",
            "Epoch: 39 \tLoss: 0.2239049536914661\n",
            "Epoch: 40 \tLoss: 0.21609523429952818\n",
            "Epoch: 41 \tLoss: 0.20879342021613284\n",
            "Epoch: 42 \tLoss: 0.20195323549981775\n",
            "Epoch: 43 \tLoss: 0.1955336221847041\n",
            "Epoch: 44 \tLoss: 0.18949816825574842\n",
            "Epoch: 45 \tLoss: 0.18381437710646925\n",
            "Epoch: 46 \tLoss: 0.17845332917982135\n",
            "Epoch: 47 \tLoss: 0.17338897621837154\n",
            "Epoch: 48 \tLoss: 0.16859794189703875\n",
            "Epoch: 49 \tLoss: 0.16405928404680614\n"
          ]
        }
      ],
      "source": [
        "EMBEDDING_DIM = 100\n",
        "\n",
        "class CBOW(torch.nn.Module):\n",
        "    def __init__(self, vocab_size, embedding_dim):\n",
        "        super().__init__()\n",
        "        self.embeddings = nn.Embedding(vocab_size, embedding_dim)\n",
        "        self.linear = nn.Linear(embedding_dim, vocab_size)\n",
        "\n",
        "\n",
        "    def forward(self, inputs):\n",
        "         embeds = self.embeddings(inputs)\n",
        "         summed_embeds = torch.sum(embeds, dim=0).view((1, -1))\n",
        "         out = self.linear(summed_embeds)\n",
        "         probs = F.log_softmax(out, dim=1)\n",
        "         return probs\n",
        "\n",
        "# create your model and train.  here are some functions to help you make\n",
        "# the data ready for use by your module\n",
        "\n",
        "def make_context_vector(context, word_to_ix):\n",
        "    idxs = [word_to_ix[w] for w in context]\n",
        "    return torch.tensor(idxs, dtype=torch.long)\n",
        "\n",
        "loss_function = nn.NLLLoss()\n",
        "model = CBOW(len(vocab), EMBEDDING_DIM)\n",
        "optimizer = optim.SGD(model.parameters(), lr=0.001)\n",
        "\n",
        "#TRAINING\n",
        "for epoch in range(50):\n",
        "    total_loss = 0\n",
        "    for context, target in data:\n",
        "\n",
        "      context_idxs = torch.tensor([word_to_ix[w] for w in context], dtype=torch.long)\n",
        "\n",
        "      model.zero_grad()\n",
        "\n",
        "      probs = model(context_idxs)\n",
        "\n",
        "      loss = loss_function(probs, torch.tensor([word_to_ix[target]], dtype=torch.long))\n",
        "\n",
        "      loss.backward()\n",
        "      optimizer.step()\n",
        "\n",
        "      total_loss += loss.item()\n",
        "    average_loss= total_loss/len(data)\n",
        "    print('Epoch:', epoch, '\\tLoss:', average_loss)\n"
      ]
    },
    {
      "cell_type": "markdown",
      "metadata": {
        "id": "dgbXNGSIvhFX"
      },
      "source": [
        "##  Check the results\n",
        "\n",
        "Then we check the results by making predictions of target work by context"
      ]
    },
    {
      "cell_type": "code",
      "execution_count": 13,
      "metadata": {
        "scrolled": true,
        "colab": {
          "base_uri": "https://localhost:8080/"
        },
        "id": "lTXeTIalvhFX",
        "outputId": "ccf5e1b3-238f-4973-8c77-c5da36e875d8"
      },
      "outputs": [
        {
          "output_type": "stream",
          "name": "stdout",
          "text": [
            "Raw text: We are about to study the idea of a computational process. Computational processes are abstract beings that inhabit computers. As they evolve, processes manipulate other abstract things called data. The evolution of a process is directed by a pattern of rules called a program. People create programs to direct processes. In effect, we conjure the spirits of the computer with our spells.\n",
            "\n",
            "Context: ['People', 'study', 'idea', 'of']\n",
            "\n",
            "Prediction: a\n"
          ]
        }
      ],
      "source": [
        "context = ['People','study','idea', 'of']\n",
        "context_vector = make_context_vector(context, word_to_ix)\n",
        "a = model(context_vector)\n",
        "\n",
        "#Print result\n",
        "print(f'Raw text: {\" \".join(raw_text)}\\n')\n",
        "print(f'Context: {context}\\n')\n",
        "print(f'Prediction: {ix_to_word[torch.argmax(a[0]).item()]}')"
      ]
    },
    {
      "cell_type": "markdown",
      "metadata": {
        "id": "UUeNaTy4vhFX"
      },
      "source": [
        "# Practical part 2: Computing Word Embeddings in  `Alice in Wonderland` using CBoW"
      ]
    },
    {
      "cell_type": "markdown",
      "metadata": {
        "id": "9JgoMfr3vhFX"
      },
      "source": [
        "Now let's try to build word embedding in a ‘Alice in Wonderland’ instead of a toy example. The word-label mapping dictionaries and corpus are available [here](https://drive.google.com/drive/folders/1mYM29PbWQ4rS0bgKndFJjZlkbcwMaEpO?usp=sharing). You can use the cell bellow to download the necessary data in your working directory."
      ]
    },
    {
      "cell_type": "code",
      "execution_count": 14,
      "metadata": {
        "colab": {
          "base_uri": "https://localhost:8080/"
        },
        "id": "z5SQqlX7vhFX",
        "outputId": "a44c6ab7-897a-4d84-8949-15da8cacd98e"
      },
      "outputs": [
        {
          "output_type": "stream",
          "name": "stderr",
          "text": [
            "Retrieving folder contents\n"
          ]
        },
        {
          "output_type": "stream",
          "name": "stdout",
          "text": [
            "Processing file 1TGMG8jTqZBrJoJB_gGxd9vh8rtX7JuXw alice.json\n",
            "Processing file 1ECyNDt0sb8PD9A5LN8YYSUb6vmb1uj6W ix_to_word.json\n",
            "Processing file 1NYzP_0QSBFVNCZW6m7KAFA83LJUtU97Q word_to_ix.json\n"
          ]
        },
        {
          "output_type": "stream",
          "name": "stderr",
          "text": [
            "Retrieving folder contents completed\n",
            "Building directory structure\n",
            "Building directory structure completed\n",
            "Downloading...\n",
            "From: https://drive.google.com/uc?id=1TGMG8jTqZBrJoJB_gGxd9vh8rtX7JuXw\n",
            "To: /content/Word_embedding_data/alice.json\n",
            "100%|██████████| 78.0k/78.0k [00:00<00:00, 3.25MB/s]\n",
            "Downloading...\n",
            "From: https://drive.google.com/uc?id=1ECyNDt0sb8PD9A5LN8YYSUb6vmb1uj6W\n",
            "To: /content/Word_embedding_data/ix_to_word.json\n",
            "100%|██████████| 42.3k/42.3k [00:00<00:00, 15.4MB/s]\n",
            "Downloading...\n",
            "From: https://drive.google.com/uc?id=1NYzP_0QSBFVNCZW6m7KAFA83LJUtU97Q\n",
            "To: /content/Word_embedding_data/word_to_ix.json\n",
            "100%|██████████| 37.6k/37.6k [00:00<00:00, 28.4MB/s]\n",
            "Download completed\n"
          ]
        },
        {
          "output_type": "execute_result",
          "data": {
            "text/plain": [
              "['/content/Word_embedding_data/alice.json',\n",
              " '/content/Word_embedding_data/ix_to_word.json',\n",
              " '/content/Word_embedding_data/word_to_ix.json']"
            ]
          },
          "metadata": {},
          "execution_count": 14
        }
      ],
      "source": [
        "import gdown\n",
        "gdown.download_folder(\"https://drive.google.com/drive/folders/1mYM29PbWQ4rS0bgKndFJjZlkbcwMaEpO\")"
      ]
    },
    {
      "cell_type": "markdown",
      "metadata": {
        "id": "-RhyA02WvhFY"
      },
      "source": [
        "##  Data Preprocessing"
      ]
    },
    {
      "cell_type": "code",
      "execution_count": 15,
      "metadata": {
        "id": "1_8_VIvbvhFY"
      },
      "outputs": [],
      "source": [
        "# modify the path according to your own file location\n",
        "import os\n",
        "data_path=os.path.join(\"/content/Word_embedding_data/\")\n",
        "# if you are not using Colab, change data_path above to where you stored the data locally"
      ]
    },
    {
      "cell_type": "markdown",
      "metadata": {
        "id": "nz6HIWCavhFY"
      },
      "source": [
        "Now we load the data:"
      ]
    },
    {
      "cell_type": "code",
      "execution_count": 16,
      "metadata": {
        "id": "kmxiUB0PvhFY"
      },
      "outputs": [],
      "source": [
        "import json\n",
        "with open(os.path.join(data_path,\"alice.json\"),'r') as f:\n",
        "    alice = json.load(f)\n",
        "with open(os.path.join(data_path,\"ix_to_word.json\"),'r') as f:\n",
        "    ix_to_word = json.load(f)\n",
        "with open(os.path.join(data_path,\"word_to_ix.json\"),'r') as f:\n",
        "    word_to_ix = json.load(f)"
      ]
    },
    {
      "cell_type": "markdown",
      "metadata": {
        "id": "pJEYPu6bvhFY"
      },
      "source": [
        "Then we create the context and target pairs by borrowing some keras utilities. We set the window_size 2 (2 words to the left, 2 to the right)."
      ]
    },
    {
      "cell_type": "code",
      "execution_count": 17,
      "metadata": {
        "colab": {
          "base_uri": "https://localhost:8080/"
        },
        "id": "CRv37D6VvhFY",
        "outputId": "bac2eb09-d15d-48b4-a8d5-474c0edfe1d8"
      },
      "outputs": [
        {
          "output_type": "stream",
          "name": "stderr",
          "text": [
            "<ipython-input-17-9171d78e1da2>:24: UserWarning: Creating a tensor from a list of numpy.ndarrays is extremely slow. Please consider converting the list to a single numpy.ndarray with numpy.array() before converting to a tensor. (Triggered internally at /pytorch/torch/csrc/utils/tensor_new.cpp:254.)\n",
            "  X=torch.tensor(X, dtype=torch.long)\n"
          ]
        }
      ],
      "source": [
        "window_size=2\n",
        "vocab_size=len(word_to_ix)\n",
        "\n",
        "from tensorflow.keras.preprocessing import text\n",
        "from tensorflow.keras.preprocessing import sequence\n",
        "from tensorflow.keras.utils import pad_sequences\n",
        "\n",
        "corpus = [[word_to_ix[w] for w in text.text_to_word_sequence(doc)] for doc in alice]\n",
        "\n",
        "def generate_context_word_pairs(corpus, window_size, vocab_size):\n",
        "    X = []\n",
        "    Y = []\n",
        "    context_length = window_size*2\n",
        "    for words in corpus:\n",
        "        sentence_length = len(words)\n",
        "        for index, word in enumerate(words):\n",
        "            start = index - window_size\n",
        "            end = index + window_size + 1\n",
        "            context = [words[i] for i in range(start, end)if 0 <= i < sentence_length and i != index]\n",
        "            x = pad_sequences([context], maxlen=context_length)[0]\n",
        "            X.append(x)\n",
        "            Y.append([word])\n",
        "\n",
        "    X=torch.tensor(X, dtype=torch.long)\n",
        "    Y=torch.tensor(Y, dtype=torch.long)\n",
        "    return X,Y\n",
        "\n",
        "X,Y = generate_context_word_pairs(corpus, window_size=window_size, vocab_size=vocab_size)"
      ]
    },
    {
      "cell_type": "markdown",
      "metadata": {
        "id": "D8Xg_eDYvhFZ"
      },
      "source": [
        "\n",
        "##  Create CBoW Model\n",
        "Now we create CBoW model, we could set the word embedding size to be 100 (or  some other number if you prefer)."
      ]
    },
    {
      "cell_type": "code",
      "execution_count": 24,
      "metadata": {
        "id": "a8ClaL2wvhFZ"
      },
      "outputs": [],
      "source": [
        "class CBOW(torch.nn.Module):\n",
        "    def __init__(self, vocab_size, embedding_dim):\n",
        "        super().__init__()\n",
        "        self.embeddings = nn.Embedding(vocab_size, embedding_dim)\n",
        "        self.linear = nn.Linear(embedding_dim, vocab_size)\n",
        "\n",
        "\n",
        "    def forward(self, inputs):\n",
        "         embeds = self.embeddings(inputs)\n",
        "         summed_embeds = torch.sum(embeds, dim=0).view((1, -1))\n",
        "         out = self.linear(summed_embeds)\n",
        "         probs = F.log_softmax(out, dim=1)\n",
        "         return probs\n",
        "\n",
        "\n",
        "EMBEDDING_DIM=100\n",
        "model = CBOW(vocab_size,EMBEDDING_DIM)"
      ]
    },
    {
      "cell_type": "markdown",
      "metadata": {
        "id": "ojjt_yiovhFZ"
      },
      "source": [
        "Remember to move your model to GPU, since now we are training with a larger corpus."
      ]
    },
    {
      "cell_type": "code",
      "execution_count": 25,
      "metadata": {
        "colab": {
          "base_uri": "https://localhost:8080/"
        },
        "id": "KrvXtlKivhFd",
        "outputId": "da4e249d-3308-42f2-9ad9-ecf96de3369e"
      },
      "outputs": [
        {
          "output_type": "execute_result",
          "data": {
            "text/plain": [
              "CBOW(\n",
              "  (embeddings): Embedding(2379, 100)\n",
              "  (linear): Linear(in_features=100, out_features=2379, bias=True)\n",
              ")"
            ]
          },
          "metadata": {},
          "execution_count": 25
        }
      ],
      "source": [
        "# Move model to GPU\n",
        "dev = torch.device(\n",
        "    \"cuda\") if torch.cuda.is_available() else torch.device(\"cpu\")\n",
        "model.to(dev)"
      ]
    },
    {
      "cell_type": "markdown",
      "metadata": {
        "id": "m5bBaU_dvhFe"
      },
      "source": [
        "Then we train the model and print the loss. The loss should decrease with every epoch over the training data. You can play with the epochs numbers here."
      ]
    },
    {
      "cell_type": "code",
      "execution_count": 26,
      "metadata": {
        "colab": {
          "base_uri": "https://localhost:8080/"
        },
        "id": "EB5Bes30vhFe",
        "outputId": "cbf7c0b1-5063-4e03-f4b0-47d202584966"
      },
      "outputs": [
        {
          "output_type": "stream",
          "name": "stdout",
          "text": [
            "Epoch: 0 \tLoss: 7.89864544054425\n",
            "Epoch: 1 \tLoss: 7.1916547454922375\n",
            "Epoch: 2 \tLoss: 6.744387899326791\n",
            "Epoch: 3 \tLoss: 6.383623286173181\n",
            "Epoch: 4 \tLoss: 6.073239662866063\n",
            "Epoch: 5 \tLoss: 5.7986685076907705\n",
            "Epoch: 6 \tLoss: 5.551960578197894\n",
            "Epoch: 7 \tLoss: 5.328205654494345\n",
            "Epoch: 8 \tLoss: 5.123991044552408\n",
            "Epoch: 9 \tLoss: 4.93667826532575\n"
          ]
        }
      ],
      "source": [
        "loss_function = nn.NLLLoss()\n",
        "optimizer = optim.SGD(model.parameters(), lr=0.001)\n",
        "\n",
        "#TRAINING\n",
        "for epoch in range(10):\n",
        "  total_loss = 0\n",
        "  for context, target in zip(X,Y):\n",
        "\n",
        "    context_idxs = context.to(dev)\n",
        "\n",
        "    model.zero_grad()\n",
        "\n",
        "    probs = model(context_idxs)\n",
        "\n",
        "    loss = loss_function(probs, target.to(dev))\n",
        "\n",
        "    loss.backward()\n",
        "    optimizer.step()\n",
        "\n",
        "    total_loss += loss.item()\n",
        "  average_loss = total_loss/len(X)\n",
        "  print('Epoch:', epoch, '\\tLoss:', average_loss)"
      ]
    },
    {
      "cell_type": "markdown",
      "metadata": {
        "id": "nuARDBlEvhFe"
      },
      "source": [
        "# Practical. 3: Analogy Task"
      ]
    },
    {
      "cell_type": "markdown",
      "metadata": {
        "id": "4AevLwUFvhFe"
      },
      "source": [
        "\n",
        "\n",
        "\n",
        "**Reading material**\n",
        "* [1] Mikolov, Tomas, et al. \"[Efficient Estimation of Word Representations in Vector Space](https://arxiv.org/abs/1301.3781)\" Advances in neural information processing systems. 2013.\n"
      ]
    },
    {
      "cell_type": "markdown",
      "metadata": {
        "id": "NtNmEQRgvhFe"
      },
      "source": [
        "Implement your own function to perform the analogy task (see [1] for concrete examples). Use the same distance metric as in [1]. Your function should be able to answer whether an analogy like: \"a king is to a queen as a man is to a woman\" ($e_{king} - e_{queen} + e_{woman} \\approx e_{man}$) is true.\n",
        "\n",
        "In a perfect scenario, we would like that this analogy ($e_{king} - e_{queen} + e_{woman}$) results in the embedding of the word \"man\". However, it does not always result in exactly the same word embedding. The result of the formula is called the expected or the predicted word embedding. In this context, \"man\" is called the true or the actual word $t$. We want to find the word $p$ in the vocabulary, where the embedding of $p$ (referred to as $e_p$) is the closest to the predicted embedding (i.e. result of the formula). Then, we can check if $p$ is the same word as the true word $t$.  \n",
        "\n",
        "You have to answer an analogy function using each embedding for  CBOW model. Show the true word (with distance similarity value between predicted embedding and true word embedding, i.e. `sim1`) , the predicted word (with distance similarity value between predicted embedding and the embedding of the word in the vocabulary that is closest to this predicted embedding, i.e. `sim2`).\n",
        "\n",
        "Since `Alice in wonder land` is a relatively small dataset to training the model for the analogy task,  we may find it is difficult to get the correct answer by searching the nearest word embedding. Therefore, we extend the predicted word to the nearest `nr` number of words and check if the true word is within them. Do not expect the `nr` to be very small, it could be tens or hundreds."
      ]
    },
    {
      "cell_type": "markdown",
      "metadata": {
        "id": "tvv-AOGmvhFe"
      },
      "source": [
        "<b>HINT</b>: to visualize the results of the analogy tasks , you can print them in a table. An example is given below.\n",
        "\n",
        "\n",
        "| Analogy task | True word (sim1)  | Predicted nearaest word (sim2) | Correct? |True word within the top `nr` nearest word?|\n",
        "|:------:|:------:|:------:|:------:|:------:|\n",
        "|  queen is to king as woman is to ?\t | man (sim1) | predicted_word(sim2) | True / False |   True / False|"
      ]
    },
    {
      "cell_type": "code",
      "execution_count": 27,
      "metadata": {
        "id": "QztyvyGSvhFf"
      },
      "outputs": [],
      "source": [
        "analogy=('queen', 'king', 'woman', 'man')"
      ]
    },
    {
      "cell_type": "markdown",
      "metadata": {
        "id": "NyPjeRVvvhFf"
      },
      "source": [
        "First let us extract the embeddings of all vocabularies for the following task"
      ]
    },
    {
      "cell_type": "code",
      "execution_count": 28,
      "metadata": {
        "id": "rmcqaDEmvhFf"
      },
      "outputs": [],
      "source": [
        "dev = torch.device(\n",
        "    \"cuda\") if torch.cuda.is_available() else torch.device(\"cpu\")"
      ]
    },
    {
      "cell_type": "code",
      "execution_count": 29,
      "metadata": {
        "id": "R41F9-sjvhFf"
      },
      "outputs": [],
      "source": [
        "embeddings = model.embeddings(torch.Tensor([list(range(0,vocab_size))]).long().to(dev))\n",
        "embeddings = embeddings.view(-1,100)\n",
        "embeddings = embeddings.cpu().detach().numpy()"
      ]
    },
    {
      "cell_type": "markdown",
      "metadata": {
        "id": "9-QrxUFavhFf"
      },
      "source": [
        "Then we define a 'get_nearest_words' function to retrive the nearest `nr` words to a certain word embedding"
      ]
    },
    {
      "cell_type": "code",
      "execution_count": 38,
      "metadata": {
        "id": "yqWtUskhvhFf"
      },
      "outputs": [],
      "source": [
        "def get_nearest_words(word, nr):\n",
        "    distance = (embeddings @ word) / (np.linalg.norm(word) * np.linalg.norm(embeddings, axis=1))\n",
        "\n",
        "    indices = np.argsort(-distance)\n",
        "\n",
        "    return [ix_to_word[str(i)] for i in indices[:nr]]"
      ]
    },
    {
      "cell_type": "markdown",
      "metadata": {
        "id": "aSvJ6gCvvhFg"
      },
      "source": [
        "Now let's search for the nearest `one` and `nr` words of the predicted word embedding, and print results of the analogy tasks"
      ]
    },
    {
      "cell_type": "code",
      "execution_count": 49,
      "metadata": {
        "id": "2f3mA5DwvhFg"
      },
      "outputs": [],
      "source": [
        "def print_analogy(nr = 5):\n",
        "    analogy = (\"queen\", \"king\", \"woman\", \"man\")\n",
        "    # analogy = (\"cheshire\", \"cat\", \"white\", \"rabbit\")\n",
        "\n",
        "    embed1 = embeddings[word_to_ix[analogy[0]]]\n",
        "    embed2 = embeddings[word_to_ix[analogy[1]]]\n",
        "    embed3 = embeddings[word_to_ix[analogy[2]]]\n",
        "\n",
        "    predicted_word = embed2 - embed1 + embed3\n",
        "\n",
        "    # word = ix_to_word[str(np.argmax(predicted_word))]\n",
        "\n",
        "    words = get_nearest_words(predicted_word, nr)\n",
        "\n",
        "    [print(f\"Nearest {i}/{nr}\", \"word:\", word) for i, word in enumerate(words)]"
      ]
    },
    {
      "cell_type": "code",
      "execution_count": 50,
      "metadata": {
        "colab": {
          "base_uri": "https://localhost:8080/"
        },
        "id": "LoSEqi1qvhFg",
        "outputId": "6a441039-ec78-4995-829d-f613c986b7ec"
      },
      "outputs": [
        {
          "output_type": "stream",
          "name": "stdout",
          "text": [
            "Nearest 0/10 word: woman\n",
            "Nearest 1/10 word: king\n",
            "Nearest 2/10 word: upsetting\n",
            "Nearest 3/10 word: merely\n",
            "Nearest 4/10 word: fainting\n",
            "Nearest 5/10 word: smoke\n",
            "Nearest 6/10 word: daughter\n",
            "Nearest 7/10 word: whatever\n",
            "Nearest 8/10 word: noise\n",
            "Nearest 9/10 word: explain\n"
          ]
        }
      ],
      "source": [
        "print_analogy(10)"
      ]
    },
    {
      "cell_type": "code",
      "source": [],
      "metadata": {
        "id": "Vb4E2ef_CA6X"
      },
      "execution_count": null,
      "outputs": []
    }
  ],
  "metadata": {
    "colab": {
      "name": "P1.2_Word_embedding.ipynb",
      "provenance": [],
      "gpuType": "T4",
      "include_colab_link": true
    },
    "kernelspec": {
      "display_name": "Python 3",
      "name": "python3"
    },
    "language_info": {
      "codemirror_mode": {
        "name": "ipython",
        "version": 3
      },
      "file_extension": ".py",
      "mimetype": "text/x-python",
      "name": "python",
      "nbconvert_exporter": "python",
      "pygments_lexer": "ipython3",
      "version": "3.12.3"
    },
    "accelerator": "GPU"
  },
  "nbformat": 4,
  "nbformat_minor": 0
}