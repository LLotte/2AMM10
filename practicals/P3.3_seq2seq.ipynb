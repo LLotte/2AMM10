{
  "cells": [
    {
      "cell_type": "markdown",
      "metadata": {
        "id": "view-in-github",
        "colab_type": "text"
      },
      "source": [
        "<a href=\"https://colab.research.google.com/github/LLotte/2AMM10/blob/main/practicals/P3.3_seq2seq.ipynb\" target=\"_parent\"><img src=\"https://colab.research.google.com/assets/colab-badge.svg\" alt=\"Open In Colab\"/></a>"
      ]
    },
    {
      "cell_type": "markdown",
      "metadata": {
        "id": "JIDgHyy2k3YW"
      },
      "source": [
        "# P3.3 - Sequence to Sequence: Text Translation\n",
        "\n",
        "In this practical we will develop a model for translation of sentences from German to English using the sequence to sequence architecture.\n",
        "\n",
        "### Learning outcomes\n",
        "- Understand the basic concepts of a sequence to sequence (seq2seq) model\n",
        "- How to preprocess textual data.\n",
        "- How to train a seq2seq model for parametrization of the joint probability distribution $P(y_0, ..., y_k | x_0, ..., x_n)$ over the words $Y$ in the target language, conditioned on the words $X$ of the source sentence.\n",
        "- How to develop a model for translation of sentences from $P(y_0, ..., y_k | x_0, ..., x_n)$.\n",
        "\n",
        "**References**\n",
        "* [1] *Ilya Sutskever, Oriol Vinyals, Quoc V. Le, \"Sequence to Sequence Learning with Neural Networks\"*, NIPS, 2014. https://arxiv.org/abs/1409.3215"
      ]
    },
    {
      "cell_type": "markdown",
      "metadata": {
        "id": "wNj3zpzuWpVO"
      },
      "source": [
        "First, some packages to install in Colab. We need to install some old packages for compatibility."
      ]
    },
    {
      "cell_type": "code",
      "execution_count": null,
      "metadata": {
        "id": "lmWM6Y3_lls5",
        "outputId": "17896ad2-f6d0-486f-81e0-1e2758ff04f9",
        "colab": {
          "base_uri": "https://localhost:8080/"
        }
      },
      "outputs": [
        {
          "output_type": "stream",
          "name": "stdout",
          "text": [
            "Collecting pytorch-nlp\n",
            "  Downloading pytorch_nlp-0.5.0-py3-none-any.whl.metadata (9.0 kB)\n",
            "Requirement already satisfied: numpy in /usr/local/lib/python3.11/dist-packages (from pytorch-nlp) (2.0.2)\n",
            "Requirement already satisfied: tqdm in /usr/local/lib/python3.11/dist-packages (from pytorch-nlp) (4.67.1)\n",
            "Downloading pytorch_nlp-0.5.0-py3-none-any.whl (90 kB)\n",
            "\u001b[?25l   \u001b[90m━━━━━━━━━━━━━━━━━━━━━━━━━━━━━━━━━━━━━━━━\u001b[0m \u001b[32m0.0/90.1 kB\u001b[0m \u001b[31m?\u001b[0m eta \u001b[36m-:--:--\u001b[0m\r\u001b[2K   \u001b[90m━━━━━━━━━━━━━━━━━━━━━━━━━━━━━━━━━━━━━━━━\u001b[0m \u001b[32m90.1/90.1 kB\u001b[0m \u001b[31m3.1 MB/s\u001b[0m eta \u001b[36m0:00:00\u001b[0m\n",
            "\u001b[?25hInstalling collected packages: pytorch-nlp\n",
            "Successfully installed pytorch-nlp-0.5.0\n",
            "\u001b[38;5;3m⚠ As of spaCy v3.0, shortcuts like 'de' are deprecated. Please use the\n",
            "full pipeline package name 'de_core_news_sm' instead.\u001b[0m\n",
            "Collecting de-core-news-sm==3.8.0\n",
            "  Downloading https://github.com/explosion/spacy-models/releases/download/de_core_news_sm-3.8.0/de_core_news_sm-3.8.0-py3-none-any.whl (14.6 MB)\n",
            "\u001b[2K     \u001b[90m━━━━━━━━━━━━━━━━━━━━━━━━━━━━━━━━━━━━━━━━\u001b[0m \u001b[32m14.6/14.6 MB\u001b[0m \u001b[31m85.7 MB/s\u001b[0m eta \u001b[36m0:00:00\u001b[0m\n",
            "\u001b[?25hInstalling collected packages: de-core-news-sm\n",
            "Successfully installed de-core-news-sm-3.8.0\n",
            "\u001b[38;5;2m✔ Download and installation successful\u001b[0m\n",
            "You can now load the package via spacy.load('de_core_news_sm')\n",
            "\u001b[38;5;3m⚠ Restart to reload dependencies\u001b[0m\n",
            "If you are in a Jupyter or Colab notebook, you may need to restart Python in\n",
            "order to load all the package's dependencies. You can do this by selecting the\n",
            "'Restart kernel' or 'Restart runtime' option.\n",
            "\u001b[38;5;3m⚠ As of spaCy v3.0, shortcuts like 'en' are deprecated. Please use the\n",
            "full pipeline package name 'en_core_web_sm' instead.\u001b[0m\n",
            "Collecting en-core-web-sm==3.8.0\n",
            "  Downloading https://github.com/explosion/spacy-models/releases/download/en_core_web_sm-3.8.0/en_core_web_sm-3.8.0-py3-none-any.whl (12.8 MB)\n",
            "\u001b[2K     \u001b[90m━━━━━━━━━━━━━━━━━━━━━━━━━━━━━━━━━━━━━━━━\u001b[0m \u001b[32m12.8/12.8 MB\u001b[0m \u001b[31m83.6 MB/s\u001b[0m eta \u001b[36m0:00:00\u001b[0m\n",
            "\u001b[?25h\u001b[38;5;2m✔ Download and installation successful\u001b[0m\n",
            "You can now load the package via spacy.load('en_core_web_sm')\n",
            "\u001b[38;5;3m⚠ Restart to reload dependencies\u001b[0m\n",
            "If you are in a Jupyter or Colab notebook, you may need to restart Python in\n",
            "order to load all the package's dependencies. You can do this by selecting the\n",
            "'Restart kernel' or 'Restart runtime' option.\n",
            "Collecting torch==2.3.0\n",
            "  Downloading torch-2.3.0-cp311-cp311-manylinux1_x86_64.whl.metadata (26 kB)\n",
            "Collecting torchtext\n",
            "  Downloading torchtext-0.18.0-cp311-cp311-manylinux1_x86_64.whl.metadata (7.9 kB)\n",
            "Requirement already satisfied: filelock in /usr/local/lib/python3.11/dist-packages (from torch==2.3.0) (3.18.0)\n",
            "Requirement already satisfied: typing-extensions>=4.8.0 in /usr/local/lib/python3.11/dist-packages (from torch==2.3.0) (4.13.2)\n",
            "Requirement already satisfied: sympy in /usr/local/lib/python3.11/dist-packages (from torch==2.3.0) (1.13.1)\n",
            "Requirement already satisfied: networkx in /usr/local/lib/python3.11/dist-packages (from torch==2.3.0) (3.4.2)\n",
            "Requirement already satisfied: jinja2 in /usr/local/lib/python3.11/dist-packages (from torch==2.3.0) (3.1.6)\n",
            "Requirement already satisfied: fsspec in /usr/local/lib/python3.11/dist-packages (from torch==2.3.0) (2025.3.2)\n",
            "Collecting nvidia-cuda-nvrtc-cu12==12.1.105 (from torch==2.3.0)\n",
            "  Downloading nvidia_cuda_nvrtc_cu12-12.1.105-py3-none-manylinux1_x86_64.whl.metadata (1.5 kB)\n",
            "Collecting nvidia-cuda-runtime-cu12==12.1.105 (from torch==2.3.0)\n",
            "  Downloading nvidia_cuda_runtime_cu12-12.1.105-py3-none-manylinux1_x86_64.whl.metadata (1.5 kB)\n",
            "Collecting nvidia-cuda-cupti-cu12==12.1.105 (from torch==2.3.0)\n",
            "  Downloading nvidia_cuda_cupti_cu12-12.1.105-py3-none-manylinux1_x86_64.whl.metadata (1.6 kB)\n",
            "Collecting nvidia-cudnn-cu12==8.9.2.26 (from torch==2.3.0)\n",
            "  Downloading nvidia_cudnn_cu12-8.9.2.26-py3-none-manylinux1_x86_64.whl.metadata (1.6 kB)\n",
            "Collecting nvidia-cublas-cu12==12.1.3.1 (from torch==2.3.0)\n",
            "  Downloading nvidia_cublas_cu12-12.1.3.1-py3-none-manylinux1_x86_64.whl.metadata (1.5 kB)\n",
            "Collecting nvidia-cufft-cu12==11.0.2.54 (from torch==2.3.0)\n",
            "  Downloading nvidia_cufft_cu12-11.0.2.54-py3-none-manylinux1_x86_64.whl.metadata (1.5 kB)\n",
            "Collecting nvidia-curand-cu12==10.3.2.106 (from torch==2.3.0)\n",
            "  Downloading nvidia_curand_cu12-10.3.2.106-py3-none-manylinux1_x86_64.whl.metadata (1.5 kB)\n",
            "Collecting nvidia-cusolver-cu12==11.4.5.107 (from torch==2.3.0)\n",
            "  Downloading nvidia_cusolver_cu12-11.4.5.107-py3-none-manylinux1_x86_64.whl.metadata (1.6 kB)\n",
            "Collecting nvidia-cusparse-cu12==12.1.0.106 (from torch==2.3.0)\n",
            "  Downloading nvidia_cusparse_cu12-12.1.0.106-py3-none-manylinux1_x86_64.whl.metadata (1.6 kB)\n",
            "Collecting nvidia-nccl-cu12==2.20.5 (from torch==2.3.0)\n",
            "  Downloading nvidia_nccl_cu12-2.20.5-py3-none-manylinux2014_x86_64.whl.metadata (1.8 kB)\n",
            "Collecting nvidia-nvtx-cu12==12.1.105 (from torch==2.3.0)\n",
            "  Downloading nvidia_nvtx_cu12-12.1.105-py3-none-manylinux1_x86_64.whl.metadata (1.7 kB)\n",
            "Collecting triton==2.3.0 (from torch==2.3.0)\n",
            "  Downloading triton-2.3.0-cp311-cp311-manylinux_2_17_x86_64.manylinux2014_x86_64.whl.metadata (1.4 kB)\n",
            "Requirement already satisfied: nvidia-nvjitlink-cu12 in /usr/local/lib/python3.11/dist-packages (from nvidia-cusolver-cu12==11.4.5.107->torch==2.3.0) (12.5.82)\n",
            "Requirement already satisfied: tqdm in /usr/local/lib/python3.11/dist-packages (from torchtext) (4.67.1)\n",
            "Requirement already satisfied: requests in /usr/local/lib/python3.11/dist-packages (from torchtext) (2.32.3)\n",
            "Requirement already satisfied: numpy in /usr/local/lib/python3.11/dist-packages (from torchtext) (2.0.2)\n",
            "Requirement already satisfied: MarkupSafe>=2.0 in /usr/local/lib/python3.11/dist-packages (from jinja2->torch==2.3.0) (3.0.2)\n",
            "Requirement already satisfied: charset-normalizer<4,>=2 in /usr/local/lib/python3.11/dist-packages (from requests->torchtext) (3.4.2)\n",
            "Requirement already satisfied: idna<4,>=2.5 in /usr/local/lib/python3.11/dist-packages (from requests->torchtext) (3.10)\n",
            "Requirement already satisfied: urllib3<3,>=1.21.1 in /usr/local/lib/python3.11/dist-packages (from requests->torchtext) (2.4.0)\n",
            "Requirement already satisfied: certifi>=2017.4.17 in /usr/local/lib/python3.11/dist-packages (from requests->torchtext) (2025.4.26)\n",
            "Requirement already satisfied: mpmath<1.4,>=1.1.0 in /usr/local/lib/python3.11/dist-packages (from sympy->torch==2.3.0) (1.3.0)\n",
            "Downloading torch-2.3.0-cp311-cp311-manylinux1_x86_64.whl (779.2 MB)\n",
            "\u001b[2K   \u001b[90m━━━━━━━━━━━━━━━━━━━━━━━━━━━━━━━━━━━━━━━━\u001b[0m \u001b[32m779.2/779.2 MB\u001b[0m \u001b[31m1.8 MB/s\u001b[0m eta \u001b[36m0:00:00\u001b[0m\n",
            "\u001b[?25hDownloading nvidia_cublas_cu12-12.1.3.1-py3-none-manylinux1_x86_64.whl (410.6 MB)\n",
            "\u001b[2K   \u001b[90m━━━━━━━━━━━━━━━━━━━━━━━━━━━━━━━━━━━━━━━━\u001b[0m \u001b[32m410.6/410.6 MB\u001b[0m \u001b[31m3.6 MB/s\u001b[0m eta \u001b[36m0:00:00\u001b[0m\n",
            "\u001b[?25hDownloading nvidia_cuda_cupti_cu12-12.1.105-py3-none-manylinux1_x86_64.whl (14.1 MB)\n",
            "\u001b[2K   \u001b[90m━━━━━━━━━━━━━━━━━━━━━━━━━━━━━━━━━━━━━━━━\u001b[0m \u001b[32m14.1/14.1 MB\u001b[0m \u001b[31m127.3 MB/s\u001b[0m eta \u001b[36m0:00:00\u001b[0m\n",
            "\u001b[?25hDownloading nvidia_cuda_nvrtc_cu12-12.1.105-py3-none-manylinux1_x86_64.whl (23.7 MB)\n",
            "\u001b[2K   \u001b[90m━━━━━━━━━━━━━━━━━━━━━━━━━━━━━━━━━━━━━━━━\u001b[0m \u001b[32m23.7/23.7 MB\u001b[0m \u001b[31m97.0 MB/s\u001b[0m eta \u001b[36m0:00:00\u001b[0m\n",
            "\u001b[?25hDownloading nvidia_cuda_runtime_cu12-12.1.105-py3-none-manylinux1_x86_64.whl (823 kB)\n",
            "\u001b[2K   \u001b[90m━━━━━━━━━━━━━━━━━━━━━━━━━━━━━━━━━━━━━━━━\u001b[0m \u001b[32m823.6/823.6 kB\u001b[0m \u001b[31m47.4 MB/s\u001b[0m eta \u001b[36m0:00:00\u001b[0m\n",
            "\u001b[?25hDownloading nvidia_cudnn_cu12-8.9.2.26-py3-none-manylinux1_x86_64.whl (731.7 MB)\n",
            "\u001b[2K   \u001b[90m━━━━━━━━━━━━━━━━━━━━━━━━━━━━━━━━━━━━━━━━\u001b[0m \u001b[32m731.7/731.7 MB\u001b[0m \u001b[31m1.7 MB/s\u001b[0m eta \u001b[36m0:00:00\u001b[0m\n",
            "\u001b[?25hDownloading nvidia_cufft_cu12-11.0.2.54-py3-none-manylinux1_x86_64.whl (121.6 MB)\n",
            "\u001b[2K   \u001b[90m━━━━━━━━━━━━━━━━━━━━━━━━━━━━━━━━━━━━━━━━\u001b[0m \u001b[32m121.6/121.6 MB\u001b[0m \u001b[31m7.1 MB/s\u001b[0m eta \u001b[36m0:00:00\u001b[0m\n",
            "\u001b[?25hDownloading nvidia_curand_cu12-10.3.2.106-py3-none-manylinux1_x86_64.whl (56.5 MB)\n",
            "\u001b[2K   \u001b[90m━━━━━━━━━━━━━━━━━━━━━━━━━━━━━━━━━━━━━━━━\u001b[0m \u001b[32m56.5/56.5 MB\u001b[0m \u001b[31m12.4 MB/s\u001b[0m eta \u001b[36m0:00:00\u001b[0m\n",
            "\u001b[?25hDownloading nvidia_cusolver_cu12-11.4.5.107-py3-none-manylinux1_x86_64.whl (124.2 MB)\n",
            "\u001b[2K   \u001b[90m━━━━━━━━━━━━━━━━━━━━━━━━━━━━━━━━━━━━━━━━\u001b[0m \u001b[32m124.2/124.2 MB\u001b[0m \u001b[31m7.4 MB/s\u001b[0m eta \u001b[36m0:00:00\u001b[0m\n",
            "\u001b[?25hDownloading nvidia_cusparse_cu12-12.1.0.106-py3-none-manylinux1_x86_64.whl (196.0 MB)\n",
            "\u001b[2K   \u001b[90m━━━━━━━━━━━━━━━━━━━━━━━━━━━━━━━━━━━━━━━━\u001b[0m \u001b[32m196.0/196.0 MB\u001b[0m \u001b[31m5.8 MB/s\u001b[0m eta \u001b[36m0:00:00\u001b[0m\n",
            "\u001b[?25hDownloading nvidia_nccl_cu12-2.20.5-py3-none-manylinux2014_x86_64.whl (176.2 MB)\n",
            "\u001b[2K   \u001b[90m━━━━━━━━━━━━━━━━━━━━━━━━━━━━━━━━━━━━━━━━\u001b[0m \u001b[32m176.2/176.2 MB\u001b[0m \u001b[31m6.2 MB/s\u001b[0m eta \u001b[36m0:00:00\u001b[0m\n",
            "\u001b[?25hDownloading nvidia_nvtx_cu12-12.1.105-py3-none-manylinux1_x86_64.whl (99 kB)\n",
            "\u001b[2K   \u001b[90m━━━━━━━━━━━━━━━━━━━━━━━━━━━━━━━━━━━━━━━━\u001b[0m \u001b[32m99.1/99.1 kB\u001b[0m \u001b[31m10.8 MB/s\u001b[0m eta \u001b[36m0:00:00\u001b[0m\n",
            "\u001b[?25hDownloading triton-2.3.0-cp311-cp311-manylinux_2_17_x86_64.manylinux2014_x86_64.whl (168.1 MB)\n",
            "\u001b[2K   \u001b[90m━━━━━━━━━━━━━━━━━━━━━━━━━━━━━━━━━━━━━━━━\u001b[0m \u001b[32m168.1/168.1 MB\u001b[0m \u001b[31m6.2 MB/s\u001b[0m eta \u001b[36m0:00:00\u001b[0m\n",
            "\u001b[?25hDownloading torchtext-0.18.0-cp311-cp311-manylinux1_x86_64.whl (2.0 MB)\n",
            "\u001b[2K   \u001b[90m━━━━━━━━━━━━━━━━━━━━━━━━━━━━━━━━━━━━━━━━\u001b[0m \u001b[32m2.0/2.0 MB\u001b[0m \u001b[31m81.5 MB/s\u001b[0m eta \u001b[36m0:00:00\u001b[0m\n",
            "\u001b[?25hInstalling collected packages: triton, nvidia-nvtx-cu12, nvidia-nccl-cu12, nvidia-cusparse-cu12, nvidia-curand-cu12, nvidia-cufft-cu12, nvidia-cuda-runtime-cu12, nvidia-cuda-nvrtc-cu12, nvidia-cuda-cupti-cu12, nvidia-cublas-cu12, nvidia-cusolver-cu12, nvidia-cudnn-cu12, torch, torchtext\n",
            "  Attempting uninstall: triton\n",
            "    Found existing installation: triton 3.2.0\n",
            "    Uninstalling triton-3.2.0:\n",
            "      Successfully uninstalled triton-3.2.0\n",
            "  Attempting uninstall: nvidia-nvtx-cu12\n",
            "    Found existing installation: nvidia-nvtx-cu12 12.4.127\n",
            "    Uninstalling nvidia-nvtx-cu12-12.4.127:\n",
            "      Successfully uninstalled nvidia-nvtx-cu12-12.4.127\n",
            "  Attempting uninstall: nvidia-nccl-cu12\n",
            "    Found existing installation: nvidia-nccl-cu12 2.21.5\n",
            "    Uninstalling nvidia-nccl-cu12-2.21.5:\n",
            "      Successfully uninstalled nvidia-nccl-cu12-2.21.5\n"
          ]
        }
      ],
      "source": [
        "!pip install pytorch-nlp\n",
        "!python -m spacy download de\n",
        "!python -m spacy download en\n",
        "!pip install torch==2.3.0 torchtext"
      ]
    },
    {
      "cell_type": "markdown",
      "metadata": {
        "id": "h1ClfmFsk3YX"
      },
      "source": [
        "### Download data\n",
        "\n",
        "We train a translation model on the multi30K dataset. The dataset was specifically designed for machine translation and evaluation tasks and contains (paired) sentences in English/German.\n",
        "\n",
        "We will be processing the dataset via the `torchnlp` library. The dataset is then processed in a similar way as in P3.1_rnn_classification. Since the original multi30k download in `torchnlp` is no longer availabe we provide an alternative source."
      ]
    },
    {
      "cell_type": "code",
      "execution_count": null,
      "metadata": {
        "id": "RniTBQOjntH1"
      },
      "outputs": [],
      "source": [
        "## boilerplate code to let us download/extract tar.gz downloads ##\n",
        "import json\n",
        "from tqdm.notebook import tqdm\n",
        "import gdown\n",
        "\n",
        "\n",
        "def download_and_extract(url, file_name):\n",
        "    gdown.download(url, file_name, quiet=False)\n",
        "    with open(file_name, 'r', encoding='utf-8') as f:\n",
        "        data = [json.loads(line.strip()) for line in f]\n",
        "    return data\n",
        "\n",
        "\n",
        "train_data = download_and_extract(\"https://drive.google.com/uc?id=1GqE08tMg-dQBbVRiQZ-7eiEHdjl0LXzr\", \"train.jsonl\")\n",
        "valid_data = download_and_extract(\"https://drive.google.com/uc?id=1PIPpx3rm0eYuJw3cJxYpgDlzeIrzeDr9\", \"test.jsonl\")\n",
        "\n",
        "print(f\"Number of training sentences: {len(train_data)}\")\n",
        "print(f\"Number of validation sentences: {len(valid_data)}\\n\\n\")\n",
        "\n",
        "valid_iterator = iter(valid_data)\n",
        "for _ in range(3):\n",
        "    batch = next(valid_iterator)\n",
        "    print(\"DE: \" + batch['de'])\n",
        "    print(\"EN: \" + batch['en'] + '\\n')\n"
      ]
    },
    {
      "cell_type": "markdown",
      "metadata": {
        "id": "j_sJFs2dk3YZ"
      },
      "source": [
        "# Preprocessing textual input data\n",
        "\n",
        "### Create vocabulary\n",
        "As we have seen in practicals/tutorials P1.2 and P3.2, word embeddings are useful for encoding words into vectors of real numbers. The first step is to build a custom vocabulary from the raw training dataset. To this end, we tokenize each sentence and thereafter count the number of occurances of each token (=word or punctuation mark) in each of the articles using `counter`. Finally, we create the vocabulary by using the frequencies of each token in the counter.\n",
        "\n",
        "Note that each datapoint consists of a German and English sentence, thus we create seperate tokenizers and vocabularies for both languages. Futhermore, we add special tokens to both vocabularies: $<unk>$ for unknown tokens, $<pad>$ for padding, $<start>$ and $<stop>$ as the first and last tokens of each sentence, respectively."
      ]
    },
    {
      "cell_type": "code",
      "execution_count": null,
      "metadata": {
        "id": "1f72OvNDk3Ya"
      },
      "outputs": [],
      "source": [
        "import torch\n",
        "from collections import Counter\n",
        "from torchtext.data.utils import get_tokenizer\n",
        "from torchtext.vocab import vocab\n",
        "import spacy\n",
        "from tqdm.notebook import tqdm\n",
        "\n",
        "# check if gpu is available\n",
        "device = torch.device(\"cuda\" if torch.cuda.is_available() else \"cpu\")\n",
        "\n",
        "de_counter, en_counter = Counter(), Counter()\n",
        "\n",
        "de_tokenizer = get_tokenizer('spacy', language='de')\n",
        "en_tokenizer = get_tokenizer('spacy', language='en')\n",
        "\n",
        "for batch in tqdm(train_data):\n",
        "\n",
        "    en, de = batch.values()\n",
        "\n",
        "    de_counter.update(de_tokenizer(de))\n",
        "    en_counter.update(en_tokenizer(en))\n",
        "\n",
        "\n",
        "de_vocab = vocab(de_counter, min_freq=2, specials=['<unk>', '<start>', '<stop>', '<pad>'])\n",
        "en_vocab = vocab(en_counter, min_freq=2, specials=['<unk>', '<start>', '<stop>', '<pad>'])\n",
        "\n",
        "print(f\"Unique tokens in source (de) vocabulary: {len(de_vocab)}\")\n",
        "print(f\"Unique tokens in target (en) vocabulary: {len(en_vocab)}\")"
      ]
    },
    {
      "cell_type": "markdown",
      "metadata": {
        "id": "Pz0-oBFKk3Yb"
      },
      "source": [
        "### Create pipelines\n",
        "\n",
        "In the paper we are implementing, they find it beneficial to reverse the order of the input (they believe it \"introduces many short term dependencies in the data that make the optimization problem much easier\"). We adopt this approach and reverse the German sentence after it has been transformed into a list of tokens."
      ]
    },
    {
      "cell_type": "code",
      "execution_count": null,
      "metadata": {
        "id": "JC3_0DnNk3Yc"
      },
      "outputs": [],
      "source": [
        "def de_pipeline(text):\n",
        "    \"\"\"\n",
        "    Reverses German sentence and tokenizes from a string into a list of strings (tokens). Then converts each token\n",
        "    to corresponding indices. Furthermore, it adds a start token at the appropriate position.\n",
        "    \"\"\"\n",
        "    word_idcs = [de_vocab['<start>']]  # start with start token\n",
        "    vocab_map = de_vocab.get_stoi()  # get our vocab -> idx map\n",
        "\n",
        "    # now, append all words if they exist in the vocab; if not, enter <unk>\n",
        "    # note that we do this in reverse\n",
        "    [word_idcs.append(vocab_map[token] if token in vocab_map else vocab_map['<unk>']) for token in de_tokenizer(text)[::-1]]\n",
        "\n",
        "    word_idcs.append(de_vocab['<stop>'])  # end with stop token\n",
        "\n",
        "    return word_idcs\n",
        "\n",
        "def en_pipeline(text):\n",
        "    \"\"\"\n",
        "    Tokenizes English sentence from a string into a list of strings (tokens), then converts each token\n",
        "    to corresponding indices. Furthermore, it adds a start token at the appropriate position\n",
        "    \"\"\"\n",
        "    word_idcs = [en_vocab['<start>']]  # start with start token\n",
        "    vocab_map = en_vocab.get_stoi()  # get our vocab -> idx map\n",
        "\n",
        "    # now, append all words if they exist in the vocab; if not, enter <unk>\n",
        "    [word_idcs.append(vocab_map[token] if token in vocab_map else vocab_map['<unk>']) for token in en_tokenizer(text)]\n",
        "    word_idcs.append(de_vocab['<stop>'])  # end with stop token\n",
        "    return word_idcs\n",
        "\n"
      ]
    },
    {
      "cell_type": "markdown",
      "metadata": {
        "id": "w0PmWctDk3Yd"
      },
      "source": [
        "The pipelines allow us to convert a string sentence into integers:\n",
        "\n",
        "    en_pipeline('Here is an example!')\n",
        "    >>> [1, 3071, 35, 205, 0, 2176, 2]"
      ]
    },
    {
      "cell_type": "markdown",
      "metadata": {
        "id": "SfEbt42xXy86"
      },
      "source": [
        "For performance reasons, we tokenize all data up front (rather than doing it per-batch) - in this way, we can directly grab the tokenized sentences while training."
      ]
    },
    {
      "cell_type": "code",
      "execution_count": null,
      "metadata": {
        "id": "vzHgP_meJdtf"
      },
      "outputs": [],
      "source": [
        "# tokenize all data up front\n",
        "train_tokenized = [(torch.tensor(en_pipeline(sentence['en']), dtype=torch.int64, device=device),\n",
        "                    torch.tensor(de_pipeline(sentence['de']), dtype=torch.int64, device=device))\n",
        "                    for sentence in tqdm(train_data)]\n",
        "valid_tokenized = [(torch.tensor(en_pipeline(sentence['en']), dtype=torch.int64, device=device),\n",
        "                   torch.tensor(de_pipeline(sentence['de']), dtype=torch.int64, device=device))\n",
        "                   for sentence in tqdm(valid_data)]"
      ]
    },
    {
      "cell_type": "markdown",
      "metadata": {
        "id": "cbS9LdXZk3Yd"
      },
      "source": [
        "### Create DataLoaders\n",
        "Using the tokenized data we create a `collate_batch` method that produces batches of source and target sentences. The `collate_batch` will be used in the `DataLoader` which enables iterating over the dataset in batches. In each iteration, a batch of source sentences (German) and target sentences (English) should be returned. We use the tokenized data and pad all sequences to create two tensors: one containing the input sentences, and another one for the target sentences."
      ]
    },
    {
      "cell_type": "code",
      "execution_count": null,
      "metadata": {
        "id": "_jE2953Sk3Yd"
      },
      "outputs": [],
      "source": [
        "from torch.utils.data import DataLoader\n",
        "from torch.nn.utils.rnn import pad_sequence\n",
        "\n",
        "def collate_batch(batch):\n",
        "    \"\"\"\n",
        "    Concatenate multiple datapoints to obtain a single batch of data\n",
        "    \"\"\"\n",
        "    # sentences are stored as tuples; get respective lists\n",
        "    en_list = [x[0] for x in batch]\n",
        "    de_list = [x[1] for x in batch]\n",
        "\n",
        "    # pad sequences in batch\n",
        "    de_padded = pad_sequence(sequences = de_list,\n",
        "                             batch_first = True,\n",
        "                             padding_value = de_vocab['<pad>'])\n",
        "    en_padded = pad_sequence(sequences = en_list,\n",
        "                             batch_first = True,\n",
        "                             padding_value = en_vocab['<pad>'])\n",
        "\n",
        "    # return source (DE) and target sequences (EN) after transferring them to GPU (if available)\n",
        "    return de_padded.to(device).T, en_padded.to(device).T\n",
        "\n"
      ]
    },
    {
      "cell_type": "markdown",
      "metadata": {
        "id": "zxy6nmm-k3Ye"
      },
      "source": [
        "# Building the Seq2Seq translation model\n",
        "\n",
        "In the implementation we define three objects: the encoder, the decoder and a full translation model that encapsulates the encoder and decoder. The given code also proposes the main hyperparameters that your implementation should use. Feel free to change the values of these parameters!\n",
        "\n",
        "The referenced paper uses a 4-layer LSTM, but in the interest of training time we can reduce this to 2-layers."
      ]
    },
    {
      "cell_type": "markdown",
      "metadata": {
        "id": "wXsOvLqTk3Ye"
      },
      "source": [
        "## Encoder\n",
        "\n",
        "The encoder takes as input a (batch of) German sentence(s). We already converted all sentences into a zero-padded 2D matrix (shape batch_size, max_seq_len)) containing the tokens that make up the sequences. As output, we want the hidden state to be used as initial state for the Decoder model.\n",
        "\n",
        "**Exercise**:\n",
        "Complete the Encoder's class. In the `__init__(self)` you should declare the approriate layers, where `forward(self, src)` declares the forward pass. The encoder should return a compact representation of the input sequence."
      ]
    },
    {
      "cell_type": "code",
      "execution_count": null,
      "metadata": {
        "id": "Q0C9Uqnfk3Ye"
      },
      "outputs": [],
      "source": [
        "import torch.nn as nn\n",
        "\n",
        "class Encoder(nn.Module):\n",
        "    def __init__(self, source_vocab, emb_dim, hid_dim, n_layers, dropout):\n",
        "        super().__init__()\n",
        "\n",
        "\n",
        "        self.source_vocab = source_vocab\n",
        "        self.hid_dim = hid_dim\n",
        "        self.n_layers = n_layers\n",
        "\n",
        "        ### Your code here ###\n",
        "\n",
        "\n",
        "\n",
        "    def forward(self, src):\n",
        "        \"\"\"\n",
        "        Forward pass of encoder model. It aims at\n",
        "        transforming the input sentence to a dense vector\n",
        "\n",
        "        Input:\n",
        "        src shape:  [max_seq_len_in_batch, batch_size]\n",
        "\n",
        "        Output:\n",
        "        hidden and cell dense vectors (hidden and cell)\n",
        "        which contains all sentence information, shape [n layers, batch size, hid dim]\n",
        "        \"\"\"\n",
        "\n",
        "        ### Your code here ###\n",
        "\n",
        "\n",
        "        return hidden, cell"
      ]
    },
    {
      "cell_type": "markdown",
      "metadata": {
        "id": "O5hZFjsgk3Yf"
      },
      "source": [
        "### Decoder"
      ]
    },
    {
      "cell_type": "markdown",
      "metadata": {
        "id": "DTx4m1Ovk3Yf"
      },
      "source": [
        "**Exercise**\n",
        "\n",
        "The next step is to implement the decoder. The Decoder class aims at performing a single step of decoding, i.e. it outputs a single token per time-step. In the first decoding step, the decoder's hidden state is initialized with that of the encoder, and it takes as input the start token (<<l>start>). Then, it should update the cell and hidden state and predict the first real word (i.e. $s_2$ -- not the <<l>start> token) of the target sentence.\n",
        "\n",
        "Generally, in a decoder step, we receive the hidden state from the previous time-step, $(h_{t-1}, c_{t-1})$, and update it with the current embedded token, $y_t$, as input (i.e the embedding that of the token predicted at the end of the previous step). We produce a new hidden state, $(h_t, c_t)$, and predict the next token in the sentence."
      ]
    },
    {
      "cell_type": "code",
      "execution_count": null,
      "metadata": {
        "id": "JqcX9GTxk3Yf"
      },
      "outputs": [],
      "source": [
        "class Decoder(nn.Module):\n",
        "    def __init__(self, target_vocab, emb_dim, hid_dim, n_layers, dropout):\n",
        "        super().__init__()\n",
        "\n",
        "        self.target_vocab = target_vocab\n",
        "        self.hid_dim = hid_dim\n",
        "        self.n_layers = n_layers\n",
        "\n",
        "        ### Your code here ###\n",
        "\n",
        "\n",
        "\n",
        "    def forward(self, input, hidden, cell):\n",
        "        \"\"\"\n",
        "        Forward pass of the decoder model. It aims at transforming\n",
        "        the dense representation of the encoder into a sentence in\n",
        "        the target language\n",
        "\n",
        "        Input:\n",
        "        hidden shape: [n layers, batch size, hid dim]\n",
        "        cell shape: [n layers, batch size, hid dim]\n",
        "        input shape: [batch size]  # 1 token for each sentence in the batch\n",
        "\n",
        "        Output:\n",
        "        prediction shape: [batch size, num_words_target_vocabulary]\n",
        "        hidden shape: [n layers, batch size, hid dim]\n",
        "        cell shape: [n layers, batch size, hid dim]\n",
        "        \"\"\"\n",
        "\n",
        "        ### Your code here ###\n",
        "\n",
        "\n",
        "        return prediction, hidden, cell"
      ]
    },
    {
      "cell_type": "markdown",
      "metadata": {
        "id": "Tp10TDuSk3Yf"
      },
      "source": [
        "## The seq2seq model"
      ]
    },
    {
      "cell_type": "markdown",
      "metadata": {
        "id": "gIN1RPULk3Yf"
      },
      "source": [
        "**Exercise**\n",
        "\n",
        "The Seq2Seq model takes in an Encoder, Decoder, and a device (used to place tensors on the GPU, if it exists).\n",
        "For this implementation, we you have to ensure that the number of layers and the hidden (and cell) dimensions are equal in the Encoder and Decoder.\n",
        "\n",
        "Start with declaring the optimizer and loss function of the model. The loss function should not penalize if the ground truth token is the <<l>pad> token. Use the `ignore_index` input argument of the loss function to realize this behavior.\n",
        "\n",
        "\n",
        "The forward method takes the source sentence, target sentence and a teacher-forcing ratio. The teacher forcing ratio is used when training our model. When decoding, at each time-step the decoder will predict what the next token in the target sequence will be from the previous tokens decoded, $\\hat{y}_{t+1}=f(s_t)$. With probability equal to the teaching forcing ratio (`teacher_forcing_ratio`) we will use the actual ground-truth next token in the sequence as the input to the decoder during the next time-step. However, with probability (1 - `teacher_forcing_ratio`), your model should use the token that the LSTM predicted at the end of the previous step, even if it doesn't match the actual next token in the sequence. The `random.random()` will be useful here.\n",
        "\n",
        "    "
      ]
    },
    {
      "cell_type": "code",
      "execution_count": null,
      "metadata": {
        "id": "9hRtG3IQk3Yg"
      },
      "outputs": [],
      "source": [
        "import torch.optim as optim\n",
        "import random\n",
        "\n",
        "class Seq2Seq(nn.Module):\n",
        "    def __init__(self, encoder, decoder, device):\n",
        "        super().__init__()\n",
        "\n",
        "        self.encoder = encoder\n",
        "        self.decoder = decoder\n",
        "        self.device = device\n",
        "\n",
        "        ### Your code here ###\n",
        "\n",
        "\n",
        "\n",
        "    def forward(self, src, trg, teacher_forcing_ratio = 0.5):\n",
        "        \"\"\"\n",
        "        Forward pass of the seq2seq model. It encodes the source sentence into\n",
        "        a dense representation and thereafter transduces into the target\n",
        "        sentence.\n",
        "\n",
        "        Inputs:\n",
        "        src: padded index representation of source sentences with shape [src len, batch size]\n",
        "        trg:  padded index representation of target sentences with shape [trg len, batch size]\n",
        "        teacher_forcing_ratio: probability to use teacher forcing, e.g. 0.5 we use ground-truth target sentence 50% of the time\n",
        "\n",
        "        Outputs:\n",
        "        outputs: padded index representation of the predicted sentences with shape [trg_len, batch_size, trg_vocab_size]\n",
        "        \"\"\"\n",
        "\n",
        "        #src = [src len, batch size]\n",
        "        #trg = [trg len, batch size]\n",
        "        #teacher_forcing_ratio is probability to use teacher forcing\n",
        "        #e.g. if teacher_forcing_ratio is 0.75 we use ground-truth inputs 75% of the time\n",
        "\n",
        "        batch_size = trg.shape[1]\n",
        "        trg_len = trg.shape[0]\n",
        "        trg_vocab_size = len(self.decoder.target_vocab)\n",
        "\n",
        "        ### Your code here ###\n",
        "\n",
        "\n",
        "        return outputs"
      ]
    },
    {
      "cell_type": "markdown",
      "metadata": {
        "id": "gu8xcKQ-k3Yg"
      },
      "source": [
        "## Training"
      ]
    },
    {
      "cell_type": "markdown",
      "metadata": {
        "id": "iYFpNsL1k3Yg"
      },
      "source": [
        "**Exercise**\n",
        "\n",
        "Write functions for training and evaluating your model. You should iterate over the dataset and update the weights of the networks with the computed loss value. Print the value of training and validation loss at the end of each epoch.\n",
        "\n",
        "Next, you will need to call your `seq2seq` model and train it using the functions that you implemented. Finally, make a plot of the training and validation accuracy.\n",
        "        \n",
        "Don't forget to declare `best_valid_loss` at the top of the cell, e.g. with\n",
        "\n",
        "    best_valid_loss = float('inf')\n",
        "    \n",
        "To avoid exploding gradients, you can also use gradient clipping, e.g. with\n",
        "\n",
        "    torch.nn.utils.clip_grad_norm_(seq2seq.parameters(), clip)\n",
        "\n",
        "    \n",
        "Finally, the GPU memory will gradually increase which eventually triggers a memory error. Make sure to clear the GPU memory before running the forward pass using the `torch.cuda.empty_cache()` command."
      ]
    },
    {
      "cell_type": "code",
      "execution_count": null,
      "metadata": {
        "id": "yliz8AtKk3Yh"
      },
      "outputs": [],
      "source": [
        "BATCH_SIZE = 128\n",
        "N_EPOCHS = 15\n",
        "CLIP = 1\n",
        "DROPOUT = 0.5\n",
        "N_LAYERS = 2 #paper uses 4\n",
        "\n",
        "EMB_DIM = 256  #dimension of the word embedding\n",
        "HIDDEN_DIM = 512 #dimension of the lstm's hidden state"
      ]
    },
    {
      "cell_type": "code",
      "execution_count": null,
      "metadata": {
        "id": "J3X1ukKuk3Yh"
      },
      "outputs": [],
      "source": [
        "# initiate seq2seq translation model\n",
        "enc = Encoder(de_vocab, EMB_DIM, HIDDEN_DIM, N_LAYERS, DROPOUT)\n",
        "dec = Decoder(en_vocab, EMB_DIM, HIDDEN_DIM, N_LAYERS, DROPOUT)\n",
        "\n",
        "seq2seq = Seq2Seq(enc, dec, device).to(device)\n",
        "\n",
        "def init_weights(m):\n",
        "    for name, param in m.named_parameters():\n",
        "        nn.init.uniform_(param.data, -0.08, 0.08)\n",
        "\n",
        "seq2seq.apply(init_weights)"
      ]
    },
    {
      "cell_type": "code",
      "execution_count": null,
      "metadata": {
        "id": "FKrRtcjSk3Yh"
      },
      "outputs": [],
      "source": [
        "import time\n",
        "\n",
        "def train(dataset, clip=CLIP):\n",
        "    epoch_loss = 0\n",
        "    seq2seq.train()\n",
        "    dataloader = DataLoader(dataset, batch_size=BATCH_SIZE, collate_fn=collate_batch)\n",
        "\n",
        "    ### Your code here ###\n",
        "\n",
        "\n",
        "    return epoch_loss / len(dataloader)\n",
        "\n",
        "\n",
        "def evaluate(dataset):\n",
        "    epoch_loss = 0\n",
        "    seq2seq.eval()\n",
        "    dataloader = DataLoader(dataset, batch_size=BATCH_SIZE, collate_fn=collate_batch)\n",
        "\n",
        "    ### Your code here ###\n",
        "\n",
        "\n",
        "    return epoch_loss / len(dataloader)\n",
        "\n",
        "\n",
        "best_valid_loss = float('inf')\n",
        "train_loss_arr = []; val_loss_arr = []\n",
        "for epoch in range(N_EPOCHS):\n",
        "\n",
        "    epoch_start_time = time.time()\n",
        "\n",
        "    train_loss = train(train_tokenized)\n",
        "    val_loss = evaluate(valid_tokenized)\n",
        "\n",
        "    train_loss_arr.append(train_loss); val_loss_arr.append(val_loss)\n",
        "\n",
        "    if val_loss < best_valid_loss:\n",
        "        best_val_loss = val_loss\n",
        "        torch.save(seq2seq.state_dict(), 'p3_3-model.pt')\n",
        "\n",
        "    print('-' * 76)\n",
        "    print('| end of epoch {:3d} | time: {:5.2f}s | '\n",
        "          'train loss {:8.3f} '\n",
        "          'valid loss {:8.3f} '.format(epoch,\n",
        "                                           time.time() - epoch_start_time,\n",
        "                                           train_loss_arr[-1],\n",
        "                                           val_loss_arr[-1]))\n",
        "    print('-' * 76)"
      ]
    },
    {
      "cell_type": "code",
      "execution_count": null,
      "metadata": {
        "id": "sBKNe651k3Yi"
      },
      "outputs": [],
      "source": [
        "### Plot the training/validation accuracy vs. epochs ###\n",
        "%pylab inline\n",
        "import matplotlib.pyplot as plt\n",
        "\n",
        "f, ax = plt.subplots(1, 1, figsize=(10,8))\n",
        "\n",
        "fnt=16\n",
        "ax.plot(train_loss_arr, color='blue', label='Train')\n",
        "ax.plot(val_loss_arr, color='red', linestyle='--', label='Val')\n",
        "ax.legend(fontsize=fnt)\n",
        "ax.tick_params(axis='both', labelsize=fnt)\n",
        "\n",
        "ax.set_xlabel(\"Epoch\", fontsize=fnt)\n",
        "ax.set_ylabel(\"Accuracy\", fontsize=fnt)"
      ]
    },
    {
      "cell_type": "markdown",
      "metadata": {
        "id": "2Lu2vv9Xk3Yi"
      },
      "source": [
        "# Inference\n",
        "\n",
        "The trained model parametrizes the joint probability distribution $P(Y|X)$ of an English target sentence $Y$ that is a correct translation of the German source sentence $X$. Formally, we seek the sentence $Y$ which maximizes $P(Y|X)$, i.e.\n",
        "\n",
        "$$\n",
        "Y = \\underset{Y^{'}}{\\operatorname{argmax}} p(Y^{′}|X).\n",
        "$$\n",
        "\n",
        "**Exercise**\n",
        "\n",
        "During inference using the seq2seq model you can make certain assumptions that should affect your implementation choices. You can assume conditional independence of the targets $P(Y|X)=P(y_{0:k}|X)=P(y_0|X)P(y_1|X)...P(y_k|X)$. In this case you can implement a greedy decoder that computes the most likely output at each step without taking into acount the selected outputs at previous steps. Or you can implement an autoregressive decoder that computes the joint probability of the output given the input $P(Y|X)=P(y_{0:k}|X)=P(y_0|X)P(y_1|y_0, X)...P(y_k|y_{0:k-1},X)$.\n"
      ]
    },
    {
      "cell_type": "code",
      "execution_count": null,
      "metadata": {
        "id": "njvX68MTk3Yi"
      },
      "outputs": [],
      "source": [
        "### Your code here ###\n"
      ]
    }
  ],
  "metadata": {
    "accelerator": "GPU",
    "colab": {
      "provenance": [],
      "include_colab_link": true
    },
    "kernelspec": {
      "display_name": "Python 3 (ipykernel)",
      "language": "python",
      "name": "python3"
    },
    "language_info": {
      "codemirror_mode": {
        "name": "ipython",
        "version": 3
      },
      "file_extension": ".py",
      "mimetype": "text/x-python",
      "name": "python",
      "nbconvert_exporter": "python",
      "pygments_lexer": "ipython3",
      "version": "3.8.8"
    }
  },
  "nbformat": 4,
  "nbformat_minor": 0
}